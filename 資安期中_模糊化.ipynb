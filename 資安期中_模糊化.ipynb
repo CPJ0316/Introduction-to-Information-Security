{
  "cells": [
    {
      "cell_type": "code",
      "execution_count": null,
      "metadata": {
        "colab": {
          "base_uri": "https://localhost:8080/"
        },
        "id": "Lty8JSapjoQM",
        "outputId": "30f2febd-1d26-44a1-88bc-898683254404"
      },
      "outputs": [
        {
          "output_type": "stream",
          "name": "stdout",
          "text": [
            "Looking in indexes: https://pypi.org/simple, https://us-python.pkg.dev/colab-wheels/public/simple/\n",
            "Requirement already satisfied: tensorflow in /usr/local/lib/python3.10/dist-packages (2.12.0)\n",
            "Requirement already satisfied: matplotlib in /usr/local/lib/python3.10/dist-packages (3.7.1)\n",
            "Requirement already satisfied: absl-py>=1.0.0 in /usr/local/lib/python3.10/dist-packages (from tensorflow) (1.4.0)\n",
            "Requirement already satisfied: astunparse>=1.6.0 in /usr/local/lib/python3.10/dist-packages (from tensorflow) (1.6.3)\n",
            "Requirement already satisfied: flatbuffers>=2.0 in /usr/local/lib/python3.10/dist-packages (from tensorflow) (23.3.3)\n",
            "Requirement already satisfied: gast<=0.4.0,>=0.2.1 in /usr/local/lib/python3.10/dist-packages (from tensorflow) (0.4.0)\n",
            "Requirement already satisfied: google-pasta>=0.1.1 in /usr/local/lib/python3.10/dist-packages (from tensorflow) (0.2.0)\n",
            "Requirement already satisfied: grpcio<2.0,>=1.24.3 in /usr/local/lib/python3.10/dist-packages (from tensorflow) (1.54.0)\n",
            "Requirement already satisfied: h5py>=2.9.0 in /usr/local/lib/python3.10/dist-packages (from tensorflow) (3.8.0)\n",
            "Requirement already satisfied: jax>=0.3.15 in /usr/local/lib/python3.10/dist-packages (from tensorflow) (0.4.8)\n",
            "Requirement already satisfied: keras<2.13,>=2.12.0 in /usr/local/lib/python3.10/dist-packages (from tensorflow) (2.12.0)\n",
            "Requirement already satisfied: libclang>=13.0.0 in /usr/local/lib/python3.10/dist-packages (from tensorflow) (16.0.0)\n",
            "Requirement already satisfied: numpy<1.24,>=1.22 in /usr/local/lib/python3.10/dist-packages (from tensorflow) (1.22.4)\n",
            "Requirement already satisfied: opt-einsum>=2.3.2 in /usr/local/lib/python3.10/dist-packages (from tensorflow) (3.3.0)\n",
            "Requirement already satisfied: packaging in /usr/local/lib/python3.10/dist-packages (from tensorflow) (23.1)\n",
            "Requirement already satisfied: protobuf!=4.21.0,!=4.21.1,!=4.21.2,!=4.21.3,!=4.21.4,!=4.21.5,<5.0.0dev,>=3.20.3 in /usr/local/lib/python3.10/dist-packages (from tensorflow) (3.20.3)\n",
            "Requirement already satisfied: setuptools in /usr/local/lib/python3.10/dist-packages (from tensorflow) (67.7.2)\n",
            "Requirement already satisfied: six>=1.12.0 in /usr/local/lib/python3.10/dist-packages (from tensorflow) (1.16.0)\n",
            "Requirement already satisfied: tensorboard<2.13,>=2.12 in /usr/local/lib/python3.10/dist-packages (from tensorflow) (2.12.2)\n",
            "Requirement already satisfied: tensorflow-estimator<2.13,>=2.12.0 in /usr/local/lib/python3.10/dist-packages (from tensorflow) (2.12.0)\n",
            "Requirement already satisfied: termcolor>=1.1.0 in /usr/local/lib/python3.10/dist-packages (from tensorflow) (2.3.0)\n",
            "Requirement already satisfied: typing-extensions>=3.6.6 in /usr/local/lib/python3.10/dist-packages (from tensorflow) (4.5.0)\n",
            "Requirement already satisfied: wrapt<1.15,>=1.11.0 in /usr/local/lib/python3.10/dist-packages (from tensorflow) (1.14.1)\n",
            "Requirement already satisfied: tensorflow-io-gcs-filesystem>=0.23.1 in /usr/local/lib/python3.10/dist-packages (from tensorflow) (0.32.0)\n",
            "Requirement already satisfied: contourpy>=1.0.1 in /usr/local/lib/python3.10/dist-packages (from matplotlib) (1.0.7)\n",
            "Requirement already satisfied: cycler>=0.10 in /usr/local/lib/python3.10/dist-packages (from matplotlib) (0.11.0)\n",
            "Requirement already satisfied: fonttools>=4.22.0 in /usr/local/lib/python3.10/dist-packages (from matplotlib) (4.39.3)\n",
            "Requirement already satisfied: kiwisolver>=1.0.1 in /usr/local/lib/python3.10/dist-packages (from matplotlib) (1.4.4)\n",
            "Requirement already satisfied: pillow>=6.2.0 in /usr/local/lib/python3.10/dist-packages (from matplotlib) (8.4.0)\n",
            "Requirement already satisfied: pyparsing>=2.3.1 in /usr/local/lib/python3.10/dist-packages (from matplotlib) (3.0.9)\n",
            "Requirement already satisfied: python-dateutil>=2.7 in /usr/local/lib/python3.10/dist-packages (from matplotlib) (2.8.2)\n",
            "Requirement already satisfied: wheel<1.0,>=0.23.0 in /usr/local/lib/python3.10/dist-packages (from astunparse>=1.6.0->tensorflow) (0.40.0)\n",
            "Requirement already satisfied: ml-dtypes>=0.0.3 in /usr/local/lib/python3.10/dist-packages (from jax>=0.3.15->tensorflow) (0.1.0)\n",
            "Requirement already satisfied: scipy>=1.7 in /usr/local/lib/python3.10/dist-packages (from jax>=0.3.15->tensorflow) (1.10.1)\n",
            "Requirement already satisfied: google-auth<3,>=1.6.3 in /usr/local/lib/python3.10/dist-packages (from tensorboard<2.13,>=2.12->tensorflow) (2.17.3)\n",
            "Requirement already satisfied: google-auth-oauthlib<1.1,>=0.5 in /usr/local/lib/python3.10/dist-packages (from tensorboard<2.13,>=2.12->tensorflow) (1.0.0)\n",
            "Requirement already satisfied: markdown>=2.6.8 in /usr/local/lib/python3.10/dist-packages (from tensorboard<2.13,>=2.12->tensorflow) (3.4.3)\n",
            "Requirement already satisfied: requests<3,>=2.21.0 in /usr/local/lib/python3.10/dist-packages (from tensorboard<2.13,>=2.12->tensorflow) (2.27.1)\n",
            "Requirement already satisfied: tensorboard-data-server<0.8.0,>=0.7.0 in /usr/local/lib/python3.10/dist-packages (from tensorboard<2.13,>=2.12->tensorflow) (0.7.0)\n",
            "Requirement already satisfied: tensorboard-plugin-wit>=1.6.0 in /usr/local/lib/python3.10/dist-packages (from tensorboard<2.13,>=2.12->tensorflow) (1.8.1)\n",
            "Requirement already satisfied: werkzeug>=1.0.1 in /usr/local/lib/python3.10/dist-packages (from tensorboard<2.13,>=2.12->tensorflow) (2.3.0)\n",
            "Requirement already satisfied: cachetools<6.0,>=2.0.0 in /usr/local/lib/python3.10/dist-packages (from google-auth<3,>=1.6.3->tensorboard<2.13,>=2.12->tensorflow) (5.3.0)\n",
            "Requirement already satisfied: pyasn1-modules>=0.2.1 in /usr/local/lib/python3.10/dist-packages (from google-auth<3,>=1.6.3->tensorboard<2.13,>=2.12->tensorflow) (0.3.0)\n",
            "Requirement already satisfied: rsa<5,>=3.1.4 in /usr/local/lib/python3.10/dist-packages (from google-auth<3,>=1.6.3->tensorboard<2.13,>=2.12->tensorflow) (4.9)\n",
            "Requirement already satisfied: requests-oauthlib>=0.7.0 in /usr/local/lib/python3.10/dist-packages (from google-auth-oauthlib<1.1,>=0.5->tensorboard<2.13,>=2.12->tensorflow) (1.3.1)\n",
            "Requirement already satisfied: urllib3<1.27,>=1.21.1 in /usr/local/lib/python3.10/dist-packages (from requests<3,>=2.21.0->tensorboard<2.13,>=2.12->tensorflow) (1.26.15)\n",
            "Requirement already satisfied: certifi>=2017.4.17 in /usr/local/lib/python3.10/dist-packages (from requests<3,>=2.21.0->tensorboard<2.13,>=2.12->tensorflow) (2022.12.7)\n",
            "Requirement already satisfied: charset-normalizer~=2.0.0 in /usr/local/lib/python3.10/dist-packages (from requests<3,>=2.21.0->tensorboard<2.13,>=2.12->tensorflow) (2.0.12)\n",
            "Requirement already satisfied: idna<4,>=2.5 in /usr/local/lib/python3.10/dist-packages (from requests<3,>=2.21.0->tensorboard<2.13,>=2.12->tensorflow) (3.4)\n",
            "Requirement already satisfied: MarkupSafe>=2.1.1 in /usr/local/lib/python3.10/dist-packages (from werkzeug>=1.0.1->tensorboard<2.13,>=2.12->tensorflow) (2.1.2)\n",
            "Requirement already satisfied: pyasn1<0.6.0,>=0.4.6 in /usr/local/lib/python3.10/dist-packages (from pyasn1-modules>=0.2.1->google-auth<3,>=1.6.3->tensorboard<2.13,>=2.12->tensorflow) (0.5.0)\n",
            "Requirement already satisfied: oauthlib>=3.0.0 in /usr/local/lib/python3.10/dist-packages (from requests-oauthlib>=0.7.0->google-auth-oauthlib<1.1,>=0.5->tensorboard<2.13,>=2.12->tensorflow) (3.2.2)\n",
            "Package                       Version\n",
            "----------------------------- --------------------\n",
            "absl-py                       1.4.0\n",
            "alabaster                     0.7.13\n",
            "albumentations                1.2.1\n",
            "altair                        4.2.2\n",
            "anyio                         3.6.2\n",
            "appdirs                       1.4.4\n",
            "argon2-cffi                   21.3.0\n",
            "argon2-cffi-bindings          21.2.0\n",
            "arviz                         0.15.1\n",
            "astropy                       5.2.2\n",
            "astunparse                    1.6.3\n",
            "attrs                         23.1.0\n",
            "audioread                     3.0.0\n",
            "autograd                      1.5\n",
            "Babel                         2.12.1\n",
            "backcall                      0.2.0\n",
            "beautifulsoup4                4.11.2\n",
            "bleach                        6.0.0\n",
            "blis                          0.7.9\n",
            "blosc2                        2.0.0\n",
            "bokeh                         2.4.3\n",
            "branca                        0.6.0\n",
            "CacheControl                  0.12.11\n",
            "cached-property               1.5.2\n",
            "cachetools                    5.3.0\n",
            "catalogue                     2.0.8\n",
            "certifi                       2022.12.7\n",
            "cffi                          1.15.1\n",
            "chardet                       4.0.0\n",
            "charset-normalizer            2.0.12\n",
            "chex                          0.1.7\n",
            "click                         8.1.3\n",
            "cloudpickle                   2.2.1\n",
            "cmake                         3.25.2\n",
            "cmdstanpy                     1.1.0\n",
            "colorcet                      3.0.1\n",
            "colorlover                    0.3.0\n",
            "community                     1.0.0b1\n",
            "confection                    0.0.4\n",
            "cons                          0.4.5\n",
            "contextlib2                   0.6.0.post1\n",
            "contourpy                     1.0.7\n",
            "convertdate                   2.4.0\n",
            "cryptography                  40.0.2\n",
            "cufflinks                     0.17.3\n",
            "cvxopt                        1.3.0\n",
            "cvxpy                         1.3.1\n",
            "cycler                        0.11.0\n",
            "cymem                         2.0.7\n",
            "Cython                        0.29.34\n",
            "dask                          2022.12.1\n",
            "datascience                   0.17.6\n",
            "db-dtypes                     1.1.1\n",
            "dbus-python                   1.2.16\n",
            "debugpy                       1.6.6\n",
            "decorator                     4.4.2\n",
            "defusedxml                    0.7.1\n",
            "distributed                   2022.12.1\n",
            "dlib                          19.24.1\n",
            "dm-tree                       0.1.8\n",
            "docutils                      0.16\n",
            "dopamine-rl                   4.0.6\n",
            "duckdb                        0.7.1\n",
            "earthengine-api               0.1.350\n",
            "easydict                      1.10\n",
            "ecos                          2.0.12\n",
            "editdistance                  0.6.2\n",
            "en-core-web-sm                3.5.0\n",
            "entrypoints                   0.4\n",
            "ephem                         4.1.4\n",
            "et-xmlfile                    1.1.0\n",
            "etils                         1.2.0\n",
            "etuples                       0.3.8\n",
            "exceptiongroup                1.1.1\n",
            "fastai                        2.7.12\n",
            "fastcore                      1.5.29\n",
            "fastdownload                  0.0.7\n",
            "fastjsonschema                2.16.3\n",
            "fastprogress                  1.0.3\n",
            "fastrlock                     0.8.1\n",
            "filelock                      3.12.0\n",
            "firebase-admin                5.3.0\n",
            "Flask                         2.2.4\n",
            "flatbuffers                   23.3.3\n",
            "flax                          0.6.9\n",
            "folium                        0.14.0\n",
            "fonttools                     4.39.3\n",
            "frozendict                    2.3.7\n",
            "fsspec                        2023.4.0\n",
            "future                        0.18.3\n",
            "gast                          0.4.0\n",
            "GDAL                          3.3.2\n",
            "gdown                         4.6.6\n",
            "gensim                        4.3.1\n",
            "geographiclib                 2.0\n",
            "geopy                         2.3.0\n",
            "gin-config                    0.5.0\n",
            "glob2                         0.7\n",
            "google                        2.0.3\n",
            "google-api-core               2.11.0\n",
            "google-api-python-client      2.84.0\n",
            "google-auth                   2.17.3\n",
            "google-auth-httplib2          0.1.0\n",
            "google-auth-oauthlib          1.0.0\n",
            "google-cloud-bigquery         3.9.0\n",
            "google-cloud-bigquery-storage 2.19.1\n",
            "google-cloud-core             2.3.2\n",
            "google-cloud-datastore        2.15.1\n",
            "google-cloud-firestore        2.11.0\n",
            "google-cloud-language         2.9.1\n",
            "google-cloud-storage          2.8.0\n",
            "google-cloud-translate        3.11.1\n",
            "google-colab                  1.0.0\n",
            "google-crc32c                 1.5.0\n",
            "google-pasta                  0.2.0\n",
            "google-resumable-media        2.5.0\n",
            "googleapis-common-protos      1.59.0\n",
            "googledrivedownloader         0.4\n",
            "graphviz                      0.20.1\n",
            "greenlet                      2.0.2\n",
            "grpcio                        1.54.0\n",
            "grpcio-status                 1.48.2\n",
            "gspread                       3.4.2\n",
            "gspread-dataframe             3.0.8\n",
            "gym                           0.25.2\n",
            "gym-notices                   0.0.8\n",
            "h5netcdf                      1.1.0\n",
            "h5py                          3.8.0\n",
            "hijri-converter               2.3.1\n",
            "holidays                      0.23\n",
            "holoviews                     1.15.4\n",
            "html5lib                      1.1\n",
            "httpimport                    1.3.0\n",
            "httplib2                      0.21.0\n",
            "humanize                      4.6.0\n",
            "hyperopt                      0.2.7\n",
            "idna                          3.4\n",
            "imageio                       2.25.1\n",
            "imageio-ffmpeg                0.4.8\n",
            "imagesize                     1.4.1\n",
            "imbalanced-learn              0.10.1\n",
            "imgaug                        0.4.0\n",
            "importlib-metadata            6.6.0\n",
            "importlib-resources           5.12.0\n",
            "imutils                       0.5.4\n",
            "inflect                       6.0.4\n",
            "iniconfig                     2.0.0\n",
            "intel-openmp                  2023.1.0\n",
            "ipykernel                     5.5.6\n",
            "ipython                       7.34.0\n",
            "ipython-genutils              0.2.0\n",
            "ipython-sql                   0.4.1\n",
            "ipywidgets                    7.7.1\n",
            "itsdangerous                  2.1.2\n",
            "jax                           0.4.8\n",
            "jaxlib                        0.4.7+cuda11.cudnn86\n",
            "jieba                         0.42.1\n",
            "Jinja2                        3.1.2\n",
            "joblib                        1.2.0\n",
            "jsonpickle                    3.0.1\n",
            "jsonschema                    4.3.3\n",
            "jupyter-client                6.1.12\n",
            "jupyter-console               6.1.0\n",
            "jupyter_core                  5.3.0\n",
            "jupyter-server                1.24.0\n",
            "jupyterlab-pygments           0.2.2\n",
            "jupyterlab-widgets            3.0.7\n",
            "kaggle                        1.5.13\n",
            "keras                         2.12.0\n",
            "keras-vis                     0.4.1\n",
            "kiwisolver                    1.4.4\n",
            "korean-lunar-calendar         0.3.1\n",
            "langcodes                     3.3.0\n",
            "lazy_loader                   0.2\n",
            "libclang                      16.0.0\n",
            "librosa                       0.10.0.post2\n",
            "lightgbm                      3.3.5\n",
            "lit                           16.0.2\n",
            "llvmlite                      0.39.1\n",
            "locket                        1.0.0\n",
            "logical-unification           0.4.5\n",
            "LunarCalendar                 0.0.9\n",
            "lxml                          4.9.2\n",
            "Markdown                      3.4.3\n",
            "markdown-it-py                2.2.0\n",
            "MarkupSafe                    2.1.2\n",
            "matplotlib                    3.7.1\n",
            "matplotlib-inline             0.1.6\n",
            "matplotlib-venn               0.11.9\n",
            "mdurl                         0.1.2\n",
            "miniKanren                    1.0.3\n",
            "missingno                     0.5.2\n",
            "mistune                       0.8.4\n",
            "mizani                        0.8.1\n",
            "mkl                           2019.0\n",
            "ml-dtypes                     0.1.0\n",
            "mlxtend                       0.14.0\n",
            "more-itertools                9.1.0\n",
            "moviepy                       1.0.3\n",
            "mpmath                        1.3.0\n",
            "msgpack                       1.0.5\n",
            "multipledispatch              0.6.0\n",
            "multitasking                  0.0.11\n",
            "murmurhash                    1.0.9\n",
            "music21                       8.1.0\n",
            "natsort                       8.3.1\n",
            "nbclient                      0.7.4\n",
            "nbconvert                     6.5.4\n",
            "nbformat                      5.8.0\n",
            "nest-asyncio                  1.5.6\n",
            "networkx                      3.1\n",
            "nibabel                       3.0.2\n",
            "nltk                          3.8.1\n",
            "notebook                      6.4.8\n",
            "numba                         0.56.4\n",
            "numexpr                       2.8.4\n",
            "numpy                         1.22.4\n",
            "oauth2client                  4.1.3\n",
            "oauthlib                      3.2.2\n",
            "opencv-contrib-python         4.7.0.72\n",
            "opencv-python                 4.7.0.72\n",
            "opencv-python-headless        4.7.0.72\n",
            "openpyxl                      3.0.10\n",
            "opt-einsum                    3.3.0\n",
            "optax                         0.1.5\n",
            "orbax-checkpoint              0.2.1\n",
            "osqp                          0.6.2.post8\n",
            "packaging                     23.1\n",
            "palettable                    3.3.3\n",
            "pandas                        1.5.3\n",
            "pandas-datareader             0.10.0\n",
            "pandas-gbq                    0.17.9\n",
            "pandocfilters                 1.5.0\n",
            "panel                         0.14.4\n",
            "param                         1.13.0\n",
            "parso                         0.8.3\n",
            "partd                         1.4.0\n",
            "pathlib                       1.0.1\n",
            "pathy                         0.10.1\n",
            "patsy                         0.5.3\n",
            "pep517                        0.13.0\n",
            "pexpect                       4.8.0\n",
            "pickleshare                   0.7.5\n",
            "Pillow                        8.4.0\n",
            "pip                           23.1.2\n",
            "pip-tools                     6.6.2\n",
            "platformdirs                  3.3.0\n",
            "plotly                        5.13.1\n",
            "plotnine                      0.10.1\n",
            "pluggy                        1.0.0\n",
            "polars                        0.17.3\n",
            "pooch                         1.6.0\n",
            "portpicker                    1.3.9\n",
            "prefetch-generator            1.0.3\n",
            "preshed                       3.0.8\n",
            "prettytable                   0.7.2\n",
            "proglog                       0.1.10\n",
            "progressbar2                  4.2.0\n",
            "prometheus-client             0.16.0\n",
            "promise                       2.3\n",
            "prompt-toolkit                3.0.38\n",
            "prophet                       1.1.2\n",
            "proto-plus                    1.22.2\n",
            "protobuf                      3.20.3\n",
            "psutil                        5.9.5\n",
            "psycopg2                      2.9.6\n",
            "ptyprocess                    0.7.0\n",
            "py-cpuinfo                    9.0.0\n",
            "py4j                          0.10.9.7\n",
            "pyarrow                       9.0.0\n",
            "pyasn1                        0.5.0\n",
            "pyasn1-modules                0.3.0\n",
            "pycocotools                   2.0.6\n",
            "pycparser                     2.21\n",
            "pyct                          0.5.0\n",
            "pydantic                      1.10.7\n",
            "pydata-google-auth            1.7.0\n",
            "pydot                         1.4.2\n",
            "pydot-ng                      2.0.0\n",
            "pydotplus                     2.0.2\n",
            "PyDrive                       1.3.1\n",
            "pyerfa                        2.0.0.3\n",
            "pygame                        2.3.0\n",
            "Pygments                      2.14.0\n",
            "PyGObject                     3.36.0\n",
            "pymc                          5.1.2\n",
            "PyMeeus                       0.5.12\n",
            "pymystem3                     0.2.0\n",
            "PyOpenGL                      3.1.6\n",
            "pyparsing                     3.0.9\n",
            "pyrsistent                    0.19.3\n",
            "PySocks                       1.7.1\n",
            "pytensor                      2.10.1\n",
            "pytest                        7.2.2\n",
            "python-apt                    0.0.0\n",
            "python-dateutil               2.8.2\n",
            "python-louvain                0.16\n",
            "python-slugify                8.0.1\n",
            "python-utils                  3.5.2\n",
            "pytz                          2022.7.1\n",
            "pytz-deprecation-shim         0.1.0.post0\n",
            "pyviz-comms                   2.2.1\n",
            "PyWavelets                    1.4.1\n",
            "PyYAML                        6.0\n",
            "pyzmq                         23.2.1\n",
            "qdldl                         0.1.7\n",
            "qudida                        0.0.4\n",
            "regex                         2022.10.31\n",
            "requests                      2.27.1\n",
            "requests-oauthlib             1.3.1\n",
            "requests-unixsocket           0.2.0\n",
            "rich                          13.3.4\n",
            "rpy2                          3.5.5\n",
            "rsa                           4.9\n",
            "scikit-image                  0.19.3\n",
            "scikit-learn                  1.2.2\n",
            "scipy                         1.10.1\n",
            "scs                           3.2.3\n",
            "seaborn                       0.12.2\n",
            "Send2Trash                    1.8.0\n",
            "setuptools                    67.7.2\n",
            "shapely                       2.0.1\n",
            "six                           1.16.0\n",
            "sklearn-pandas                2.2.0\n",
            "smart-open                    6.3.0\n",
            "sniffio                       1.3.0\n",
            "snowballstemmer               2.2.0\n",
            "sortedcontainers              2.4.0\n",
            "soundfile                     0.12.1\n",
            "soupsieve                     2.4.1\n",
            "soxr                          0.3.5\n",
            "spacy                         3.5.2\n",
            "spacy-legacy                  3.0.12\n",
            "spacy-loggers                 1.0.4\n",
            "Sphinx                        3.5.4\n",
            "sphinxcontrib-applehelp       1.0.4\n",
            "sphinxcontrib-devhelp         1.0.2\n",
            "sphinxcontrib-htmlhelp        2.0.1\n",
            "sphinxcontrib-jsmath          1.0.1\n",
            "sphinxcontrib-qthelp          1.0.3\n",
            "sphinxcontrib-serializinghtml 1.1.5\n",
            "SQLAlchemy                    2.0.10\n",
            "sqlparse                      0.4.4\n",
            "srsly                         2.4.6\n",
            "statsmodels                   0.13.5\n",
            "sympy                         1.11.1\n",
            "tables                        3.8.0\n",
            "tabulate                      0.8.10\n",
            "tblib                         1.7.0\n",
            "tenacity                      8.2.2\n",
            "tensorboard                   2.12.2\n",
            "tensorboard-data-server       0.7.0\n",
            "tensorboard-plugin-wit        1.8.1\n",
            "tensorflow                    2.12.0\n",
            "tensorflow-datasets           4.8.3\n",
            "tensorflow-estimator          2.12.0\n",
            "tensorflow-gcs-config         2.12.0\n",
            "tensorflow-hub                0.13.0\n",
            "tensorflow-io-gcs-filesystem  0.32.0\n",
            "tensorflow-metadata           1.13.1\n",
            "tensorflow-probability        0.19.0\n",
            "tensorstore                   0.1.36\n",
            "termcolor                     2.3.0\n",
            "terminado                     0.17.1\n",
            "text-unidecode                1.3\n",
            "textblob                      0.17.1\n",
            "tf-slim                       1.1.0\n",
            "thinc                         8.1.9\n",
            "threadpoolctl                 3.1.0\n",
            "tifffile                      2023.4.12\n",
            "tinycss2                      1.2.1\n",
            "toml                          0.10.2\n",
            "tomli                         2.0.1\n",
            "toolz                         0.12.0\n",
            "torch                         2.0.0+cu118\n",
            "torchaudio                    2.0.1+cu118\n",
            "torchdata                     0.6.0\n",
            "torchsummary                  1.5.1\n",
            "torchtext                     0.15.1\n",
            "torchvision                   0.15.1+cu118\n",
            "tornado                       6.2\n",
            "tqdm                          4.65.0\n",
            "traitlets                     5.7.1\n",
            "triton                        2.0.0\n",
            "tweepy                        4.13.0\n",
            "typer                         0.7.0\n",
            "typing_extensions             4.5.0\n",
            "tzdata                        2023.3\n",
            "tzlocal                       4.3\n",
            "uritemplate                   4.1.1\n",
            "urllib3                       1.26.15\n",
            "vega-datasets                 0.9.0\n",
            "wasabi                        1.1.1\n",
            "wcwidth                       0.2.6\n",
            "webcolors                     1.13\n",
            "webencodings                  0.5.1\n",
            "websocket-client              1.5.1\n",
            "Werkzeug                      2.3.0\n",
            "wheel                         0.40.0\n",
            "widgetsnbextension            3.6.4\n",
            "wordcloud                     1.8.2.2\n",
            "wrapt                         1.14.1\n",
            "xarray                        2022.12.0\n",
            "xarray-einstats               0.5.1\n",
            "xgboost                       1.7.5\n",
            "xlrd                          2.0.1\n",
            "yellowbrick                   1.5\n",
            "yfinance                      0.2.18\n",
            "zict                          3.0.0\n",
            "zipp                          3.15.0\n"
          ]
        }
      ],
      "source": [
        "!pip install tensorflow matplotlib\n",
        "!pip list"
      ]
    },
    {
      "cell_type": "code",
      "execution_count": null,
      "metadata": {
        "colab": {
          "base_uri": "https://localhost:8080/"
        },
        "id": "y3mpmsud0TTg",
        "outputId": "8267fc18-bb0f-42e4-f3d1-868c2c6dca9c"
      },
      "outputs": [
        {
          "output_type": "stream",
          "name": "stdout",
          "text": [
            "Drive already mounted at /content/gdrive; to attempt to forcibly remount, call drive.mount(\"/content/gdrive\", force_remount=True).\n"
          ]
        }
      ],
      "source": [
        "from google.colab import drive\n",
        "drive.mount('/content/gdrive')#連結到雲端"
      ]
    },
    {
      "cell_type": "code",
      "execution_count": null,
      "metadata": {
        "id": "2s81wSnUkazT"
      },
      "outputs": [],
      "source": [
        "import tensorflow as tf\n",
        "import os"
      ]
    },
    {
      "cell_type": "code",
      "execution_count": null,
      "metadata": {
        "id": "fxoH1f0_kz2Z"
      },
      "outputs": [],
      "source": [
        "gpus = tf.config.experimental.list_physical_devices('GPU')\n",
        "for gpu in gpus:\n",
        "    tf.config.experimental.set_memory_growth(gpu, True)"
      ]
    },
    {
      "cell_type": "code",
      "execution_count": null,
      "metadata": {
        "id": "1rPhCUlak0TW",
        "colab": {
          "base_uri": "https://localhost:8080/"
        },
        "outputId": "9379d3e2-959d-43c2-dc91-ff34f149f7a8"
      },
      "outputs": [
        {
          "output_type": "execute_result",
          "data": {
            "text/plain": [
              "[]"
            ]
          },
          "metadata": {},
          "execution_count": 48
        }
      ],
      "source": [
        "tf.config.list_physical_devices('GPU')"
      ]
    },
    {
      "cell_type": "markdown",
      "metadata": {
        "id": "dm6qJfuG5LMG"
      },
      "source": [
        "# 基本方式\n"
      ]
    },
    {
      "cell_type": "markdown",
      "metadata": {
        "id": "RLoyx3eYk_a_"
      },
      "source": [
        "## get圖片"
      ]
    },
    {
      "cell_type": "code",
      "execution_count": null,
      "metadata": {
        "id": "Pjl95ggLlBx7"
      },
      "outputs": [],
      "source": [
        "import numpy as np\n",
        "from matplotlib import pyplot as plt\n",
        "import cv2 as cv"
      ]
    },
    {
      "cell_type": "code",
      "execution_count": null,
      "metadata": {
        "colab": {
          "base_uri": "https://localhost:8080/"
        },
        "id": "13U2GpljlCjt",
        "outputId": "c4328a91-dec1-482a-b89a-be3f0a4f5eaa"
      },
      "outputs": [
        {
          "name": "stdout",
          "output_type": "stream",
          "text": [
            "Found 4000 files belonging to 40 classes.\n"
          ]
        }
      ],
      "source": [
        "# data = tf.keras.utils.image_dataset_from_directory('/content/gdrive/MyDrive/Security/train_group') #dataset1\n",
        "data = tf.keras.utils.image_dataset_from_directory('/content/gdrive/MyDrive/Security/train_group_ver2')"
      ]
    },
    {
      "cell_type": "code",
      "execution_count": null,
      "metadata": {
        "id": "f-thLuKUlEs4"
      },
      "outputs": [],
      "source": [
        "data_iterator = data.as_numpy_iterator()"
      ]
    },
    {
      "cell_type": "code",
      "execution_count": null,
      "metadata": {
        "id": "DM1nV3JflHkX"
      },
      "outputs": [],
      "source": [
        "batch = data_iterator.next()"
      ]
    },
    {
      "cell_type": "code",
      "execution_count": null,
      "metadata": {
        "colab": {
          "base_uri": "https://localhost:8080/"
        },
        "id": "Ds5kIbUq2GKd",
        "outputId": "68a1bcdb-a2ac-450a-9c79-52ece313baa5"
      },
      "outputs": [
        {
          "data": {
            "text/plain": [
              "array([20,  4, 10,  7, 27,  9,  0, 29,  4, 17, 15, 17, 29,  4, 16, 25, 22,\n",
              "        4, 24, 18, 34, 26, 34, 13, 39,  8, 29,  8, 22, 29, 11,  4],\n",
              "      dtype=int32)"
            ]
          },
          "execution_count": 10,
          "metadata": {},
          "output_type": "execute_result"
        }
      ],
      "source": [
        "batch[1]"
      ]
    },
    {
      "cell_type": "code",
      "execution_count": null,
      "metadata": {
        "colab": {
          "base_uri": "https://localhost:8080/",
          "height": 35
        },
        "id": "cYKHzIaxlIQY",
        "outputId": "5545d483-8a10-4422-a92b-14d7307dd461"
      },
      "outputs": [
        {
          "data": {
            "application/vnd.google.colaboratory.intrinsic+json": {
              "type": "string"
            },
            "text/plain": [
              "'fig, ax = plt.subplots(ncols=4, figsize=(20,20))\\nfor idx, img in enumerate(batch[0][:4]):\\n    ax[idx].imshow(img.astype(int))\\n    ax[idx].title.set_text(batch[1][idx])'"
            ]
          },
          "execution_count": 11,
          "metadata": {},
          "output_type": "execute_result"
        }
      ],
      "source": [
        "'''fig, ax = plt.subplots(ncols=4, figsize=(20,20))\n",
        "for idx, img in enumerate(batch[0][:4]):\n",
        "    ax[idx].imshow(img.astype(int))\n",
        "    ax[idx].title.set_text(batch[1][idx])'''"
      ]
    },
    {
      "cell_type": "code",
      "execution_count": null,
      "metadata": {
        "id": "8m_sh0WilO_M"
      },
      "outputs": [],
      "source": [
        "#print(batch[0].max())\n",
        "#print(batch[0].min())\n",
        "data = data.map(lambda x,y: (x/255, y)) #將値控制在0~1之間"
      ]
    },
    {
      "cell_type": "code",
      "execution_count": null,
      "metadata": {
        "colab": {
          "base_uri": "https://localhost:8080/"
        },
        "id": "GD_L1i0plQ7y",
        "outputId": "029a92f9-e1f5-471e-dc50-fae6e28086ac"
      },
      "outputs": [
        {
          "data": {
            "text/plain": [
              "(array([[[[0.30980393, 0.24705882, 0.18431373],\n",
              "          [0.30980393, 0.24705882, 0.18431373],\n",
              "          [0.30980393, 0.24705882, 0.18431373],\n",
              "          ...,\n",
              "          [0.45882353, 0.4       , 0.2784314 ],\n",
              "          [0.45882353, 0.4       , 0.2784314 ],\n",
              "          [0.45882353, 0.4       , 0.2784314 ]],\n",
              " \n",
              "         [[0.30980393, 0.24705882, 0.18431373],\n",
              "          [0.30980393, 0.24705882, 0.18431373],\n",
              "          [0.30980393, 0.24705882, 0.18431373],\n",
              "          ...,\n",
              "          [0.45882353, 0.4       , 0.2784314 ],\n",
              "          [0.45970333, 0.4008798 , 0.27931118],\n",
              "          [0.46141237, 0.40258884, 0.28102022]],\n",
              " \n",
              "         [[0.30980393, 0.24705882, 0.18431373],\n",
              "          [0.30980393, 0.24705882, 0.18431373],\n",
              "          [0.30980393, 0.24705882, 0.18431373],\n",
              "          ...,\n",
              "          [0.45882353, 0.4       , 0.2784314 ],\n",
              "          [0.4595784 , 0.40075487, 0.27918622],\n",
              "          [0.46104473, 0.4022212 , 0.28065258]],\n",
              " \n",
              "         ...,\n",
              " \n",
              "         [[0.22352941, 0.19607843, 0.1254902 ],\n",
              "          [0.22206308, 0.19461209, 0.12402385],\n",
              "          [0.22227131, 0.19482033, 0.12423209],\n",
              "          ...,\n",
              "          [0.58527684, 0.4519435 , 0.3146886 ],\n",
              "          [0.5860141 , 0.45268077, 0.31542584],\n",
              "          [0.5860141 , 0.45268077, 0.31542584]],\n",
              " \n",
              "         [[0.2221967 , 0.1947457 , 0.12415747],\n",
              "          [0.22048765, 0.19303666, 0.12244843],\n",
              "          [0.22073035, 0.19327937, 0.12269113],\n",
              "          ...,\n",
              "          [0.5837359 , 0.45040253, 0.31314763],\n",
              "          [0.58431375, 0.4509804 , 0.3137255 ],\n",
              "          [0.58431375, 0.4509804 , 0.3137255 ]],\n",
              " \n",
              "         [[0.21960784, 0.19215687, 0.12156863],\n",
              "          [0.21960784, 0.19215687, 0.12156863],\n",
              "          [0.21960784, 0.19215687, 0.12156863],\n",
              "          ...,\n",
              "          [0.58261335, 0.44928002, 0.31202513],\n",
              "          [0.58431375, 0.4509804 , 0.3137255 ],\n",
              "          [0.58431375, 0.4509804 , 0.3137255 ]]],\n",
              " \n",
              " \n",
              "        [[[0.26298255, 0.22768842, 0.16886489],\n",
              "          [0.26298255, 0.22768842, 0.16886489],\n",
              "          [0.26298255, 0.22768842, 0.16886489],\n",
              "          ...,\n",
              "          [0.5325061 , 0.47760418, 0.3717218 ],\n",
              "          [0.5468827 , 0.4919807 , 0.38609836],\n",
              "          [0.55270374, 0.49780178, 0.39191943]],\n",
              " \n",
              "         [[0.26666668, 0.23137255, 0.17254902],\n",
              "          [0.26666668, 0.23137255, 0.17254902],\n",
              "          [0.26666668, 0.23137255, 0.17254902],\n",
              "          ...,\n",
              "          [0.53129715, 0.4763952 , 0.37051284],\n",
              "          [0.545458  , 0.49055606, 0.3846737 ],\n",
              "          [0.5512791 , 0.49637714, 0.39116398]],\n",
              " \n",
              "         [[0.26666668, 0.23137255, 0.17254902],\n",
              "          [0.26666668, 0.23137255, 0.17254902],\n",
              "          [0.26666668, 0.23137255, 0.17254902],\n",
              "          ...,\n",
              "          [0.5234758 , 0.46857384, 0.3626915 ],\n",
              "          [0.5356936 , 0.48079163, 0.37490928],\n",
              "          [0.54129905, 0.48639706, 0.38419884]],\n",
              " \n",
              "         ...,\n",
              " \n",
              "         [[0.30809116, 0.2531892 , 0.15004124],\n",
              "          [0.3053067 , 0.25040478, 0.14725678],\n",
              "          [0.30350736, 0.24860542, 0.14545745],\n",
              "          ...,\n",
              "          [0.43730912, 0.35887775, 0.2647601 ],\n",
              "          [0.43550977, 0.3570784 , 0.26296076],\n",
              "          [0.43529412, 0.35686275, 0.25906098]],\n",
              " \n",
              "         [[0.2992264 , 0.24432445, 0.14236367],\n",
              "          [0.29554227, 0.24064031, 0.13867953],\n",
              "          [0.29532662, 0.24042468, 0.13846388],\n",
              "          ...,\n",
              "          [0.4364813 , 0.35804993, 0.2639323 ],\n",
              "          [0.43529412, 0.35686275, 0.2627451 ],\n",
              "          [0.43529412, 0.35686275, 0.25906098]],\n",
              " \n",
              "         [[0.29434073, 0.23943874, 0.13747796],\n",
              "          [0.29344848, 0.2385465 , 0.13658571],\n",
              "          [0.29043353, 0.23553155, 0.13357078],\n",
              "          ...,\n",
              "          [0.4364813 , 0.35804993, 0.2639323 ],\n",
              "          [0.43529412, 0.35686275, 0.2627451 ],\n",
              "          [0.43183306, 0.3534017 , 0.25559992]]],\n",
              " \n",
              " \n",
              "        [[[0.9843137 , 0.75686276, 0.5764706 ],\n",
              "          [0.9843137 , 0.75686276, 0.5764706 ],\n",
              "          [0.9843137 , 0.75686276, 0.56985295],\n",
              "          ...,\n",
              "          [0.6431373 , 0.69411767, 0.7294118 ],\n",
              "          [0.6431373 , 0.69411767, 0.7294118 ],\n",
              "          [0.6431373 , 0.69411767, 0.7294118 ]],\n",
              " \n",
              "         [[0.9843137 , 0.75686276, 0.5764706 ],\n",
              "          [0.9843137 , 0.75686276, 0.5764706 ],\n",
              "          [0.9843137 , 0.75686276, 0.56985295],\n",
              "          ...,\n",
              "          [0.6431373 , 0.69411767, 0.7294118 ],\n",
              "          [0.6431373 , 0.69411767, 0.7294118 ],\n",
              "          [0.6431373 , 0.69411767, 0.7294118 ]],\n",
              " \n",
              "         [[0.9843137 , 0.76348037, 0.5797794 ],\n",
              "          [0.9843137 , 0.76348037, 0.5797794 ],\n",
              "          [0.98710555, 0.76068854, 0.5731618 ],\n",
              "          ...,\n",
              "          [0.64644605, 0.6974265 , 0.7294118 ],\n",
              "          [0.64644605, 0.6974265 , 0.7294118 ],\n",
              "          [0.64644605, 0.6974265 , 0.7294118 ]],\n",
              " \n",
              "         ...,\n",
              " \n",
              "         [[0.9882353 , 0.65882355, 0.42352942],\n",
              "          [0.98468137, 0.6552696 , 0.41286764],\n",
              "          [0.9843137 , 0.6482843 , 0.40845588],\n",
              "          ...,\n",
              "          [0.23397289, 0.22674249, 0.14335555],\n",
              "          [0.23014706, 0.22291666, 0.13394608],\n",
              "          [0.23014706, 0.22291666, 0.13394608]],\n",
              " \n",
              "         [[0.9882353 , 0.65882355, 0.42352942],\n",
              "          [0.98501456, 0.6556028 , 0.41320083],\n",
              "          [0.9843712 , 0.6483418 , 0.40851334],\n",
              "          ...,\n",
              "          [0.23014706, 0.2262255 , 0.14387254],\n",
              "          [0.22349495, 0.21957338, 0.13722044],\n",
              "          [0.22316177, 0.2192402 , 0.13688725]],\n",
              " \n",
              "         [[0.9882353 , 0.65882355, 0.42352942],\n",
              "          [0.9882353 , 0.65882355, 0.41642156],\n",
              "          [0.98492646, 0.64889705, 0.4090686 ],\n",
              "          ...,\n",
              "          [0.23014706, 0.2262255 , 0.14387254],\n",
              "          [0.22316177, 0.2192402 , 0.13688725],\n",
              "          [0.21960784, 0.21568628, 0.13333334]]],\n",
              " \n",
              " \n",
              "        ...,\n",
              " \n",
              " \n",
              "        [[[0.03529412, 0.02745098, 0.03137255],\n",
              "          [0.03529412, 0.02745098, 0.03137255],\n",
              "          [0.03529412, 0.02745098, 0.03137255],\n",
              "          ...,\n",
              "          [0.73751533, 0.6943781 , 0.68653494],\n",
              "          [0.742693  , 0.69955575, 0.6917126 ],\n",
              "          [0.7411765 , 0.69803923, 0.6901961 ]],\n",
              " \n",
              "         [[0.03529412, 0.02745098, 0.03137255],\n",
              "          [0.03529412, 0.02745098, 0.03137255],\n",
              "          [0.03529412, 0.02745098, 0.03137255],\n",
              "          ...,\n",
              "          [0.73751533, 0.6943781 , 0.68653494],\n",
              "          [0.742693  , 0.69955575, 0.6917126 ],\n",
              "          [0.7411765 , 0.69803923, 0.6901961 ]],\n",
              " \n",
              "         [[0.03529412, 0.02745098, 0.03137255],\n",
              "          [0.03529412, 0.02745098, 0.03137255],\n",
              "          [0.03529412, 0.02745098, 0.03137255],\n",
              "          ...,\n",
              "          [0.73751533, 0.6943781 , 0.68653494],\n",
              "          [0.742693  , 0.69955575, 0.6917126 ],\n",
              "          [0.7411765 , 0.69803923, 0.6901961 ]],\n",
              " \n",
              "         ...,\n",
              " \n",
              "         [[0.05490196, 0.04313726, 0.02352941],\n",
              "          [0.0564185 , 0.0446538 , 0.02504596],\n",
              "          [0.0613511 , 0.0495864 , 0.02997855],\n",
              "          ...,\n",
              "          [0.35686275, 0.28235295, 0.26666668],\n",
              "          [0.35600784, 0.28149804, 0.26581174],\n",
              "          [0.35546875, 0.28095895, 0.26527268]],\n",
              " \n",
              "         [[0.04799691, 0.04104225, 0.02143441],\n",
              "          [0.05067839, 0.04372373, 0.02411589],\n",
              "          [0.05413603, 0.04718137, 0.02757353],\n",
              "          ...,\n",
              "          [0.35686275, 0.28235295, 0.26185662],\n",
              "          [0.35593268, 0.28142288, 0.26387647],\n",
              "          [0.3553462 , 0.2808364 , 0.26515013]],\n",
              " \n",
              "         [[0.04364277, 0.0397212 , 0.02011336],\n",
              "          [0.04705882, 0.04313726, 0.02352941],\n",
              "          [0.0495864 , 0.04566483, 0.02605698],\n",
              "          ...,\n",
              "          [0.35686275, 0.28235295, 0.25882354],\n",
              "          [0.35686275, 0.28235295, 0.26363358],\n",
              "          [0.35686275, 0.28235295, 0.26666668]]],\n",
              " \n",
              " \n",
              "        [[[0.18039216, 0.34901962, 0.4745098 ],\n",
              "          [0.19712488, 0.36575234, 0.49124253],\n",
              "          [0.22333314, 0.3958209 , 0.5097302 ],\n",
              "          ...,\n",
              "          [0.34117648, 0.5568628 , 0.70980394],\n",
              "          [0.34509805, 0.56078434, 0.7137255 ],\n",
              "          [0.34822303, 0.5639093 , 0.7168505 ]],\n",
              " \n",
              "         [[0.18553443, 0.3541619 , 0.47965208],\n",
              "          [0.20067401, 0.36930147, 0.49479166],\n",
              "          [0.22877508, 0.40126282, 0.5151721 ],\n",
              "          ...,\n",
              "          [0.34117648, 0.5568628 , 0.70980394],\n",
              "          [0.34509805, 0.56078434, 0.7137255 ],\n",
              "          [0.34822303, 0.5639093 , 0.7168505 ]],\n",
              " \n",
              "         [[0.1960047 , 0.36463216, 0.49012235],\n",
              "          [0.21084559, 0.37947303, 0.5049632 ],\n",
              "          [0.23504902, 0.40753677, 0.52144605],\n",
              "          ...,\n",
              "          [0.34117648, 0.5568628 , 0.70980394],\n",
              "          [0.34509805, 0.56078434, 0.7137255 ],\n",
              "          [0.34822303, 0.5639093 , 0.7168505 ]],\n",
              " \n",
              "         ...,\n",
              " \n",
              "         [[0.00392157, 0.01568628, 0.05098039],\n",
              "          [0.00392157, 0.01568628, 0.05098039],\n",
              "          [0.00392157, 0.01568628, 0.05098039],\n",
              "          ...,\n",
              "          [0.00386029, 0.00386029, 0.00386029],\n",
              "          [0.00386029, 0.00386029, 0.00386029],\n",
              "          [0.00386029, 0.00386029, 0.00386029]],\n",
              " \n",
              "         [[0.00392157, 0.01568628, 0.05098039],\n",
              "          [0.00392157, 0.01568628, 0.05098039],\n",
              "          [0.00392157, 0.01568628, 0.05098039],\n",
              "          ...,\n",
              "          [0.        , 0.        , 0.        ],\n",
              "          [0.        , 0.        , 0.        ],\n",
              "          [0.        , 0.        , 0.        ]],\n",
              " \n",
              "         [[0.00392157, 0.01568628, 0.05098039],\n",
              "          [0.00392157, 0.01568628, 0.05098039],\n",
              "          [0.00392157, 0.01568628, 0.05098039],\n",
              "          ...,\n",
              "          [0.        , 0.        , 0.        ],\n",
              "          [0.        , 0.        , 0.        ],\n",
              "          [0.        , 0.        , 0.        ]]],\n",
              " \n",
              " \n",
              "        [[[0.39215687, 0.30980393, 0.22745098],\n",
              "          [0.39492953, 0.3125766 , 0.23022366],\n",
              "          [0.39808518, 0.31573224, 0.23337929],\n",
              "          ...,\n",
              "          [0.6332874 , 0.52166057, 0.40784314],\n",
              "          [0.63529414, 0.5176471 , 0.40784314],\n",
              "          [0.63529414, 0.5176471 , 0.40784314]],\n",
              " \n",
              "         [[0.39215687, 0.30980393, 0.22745098],\n",
              "          [0.39492953, 0.3125766 , 0.23022366],\n",
              "          [0.39808518, 0.31573224, 0.23337929],\n",
              "          ...,\n",
              "          [0.63186854, 0.52024174, 0.4064243 ],\n",
              "          [0.63529414, 0.5176471 , 0.40784314],\n",
              "          [0.63529414, 0.5176471 , 0.40784314]],\n",
              " \n",
              "         [[0.39215687, 0.30980393, 0.22745098],\n",
              "          [0.39492953, 0.3125766 , 0.23022366],\n",
              "          [0.39705828, 0.31470534, 0.2323524 ],\n",
              "          ...,\n",
              "          [0.6323075 , 0.52068067, 0.40686327],\n",
              "          [0.63529414, 0.5176471 , 0.40784314],\n",
              "          [0.63529414, 0.5176471 , 0.40784314]],\n",
              " \n",
              "         ...,\n",
              " \n",
              "         [[0.36078432, 0.34117648, 0.32166055],\n",
              "          [0.36213815, 0.3425303 , 0.32301438],\n",
              "          [0.36372602, 0.34411818, 0.32460225],\n",
              "          ...,\n",
              "          [0.4452359 , 0.31764707, 0.20592831],\n",
              "          [0.4392157 , 0.31764707, 0.20392157],\n",
              "          [0.4392157 , 0.31764707, 0.20392157]],\n",
              " \n",
              "         [[0.36078432, 0.34117648, 0.31764707],\n",
              "          [0.3627447 , 0.34313685, 0.31960744],\n",
              "          [0.3641449 , 0.34453705, 0.32100764],\n",
              "          ...,\n",
              "          [0.4452359 , 0.31764707, 0.20592831],\n",
              "          [0.4392157 , 0.31764707, 0.20392157],\n",
              "          [0.4392157 , 0.31764707, 0.20392157]],\n",
              " \n",
              "         [[0.36078432, 0.34117648, 0.31764707],\n",
              "          [0.36078432, 0.34117648, 0.31764707],\n",
              "          [0.36279106, 0.34318322, 0.3196538 ],\n",
              "          ...,\n",
              "          [0.4452359 , 0.31764707, 0.20592831],\n",
              "          [0.4392157 , 0.31764707, 0.20392157],\n",
              "          [0.4392157 , 0.31764707, 0.20392157]]]], dtype=float32),\n",
              " array([22, 24, 14, 37, 35, 38, 25, 20,  8, 22, 26, 29, 27,  2,  1, 15, 26,\n",
              "        29, 15, 14, 17, 24,  4, 12, 32,  5, 37, 26, 14, 17,  4, 25],\n",
              "       dtype=int32))"
            ]
          },
          "execution_count": 13,
          "metadata": {},
          "output_type": "execute_result"
        }
      ],
      "source": [
        "data.as_numpy_iterator().next()"
      ]
    },
    {
      "cell_type": "markdown",
      "metadata": {
        "id": "g433s9CyzKCF"
      },
      "source": [
        "## 分割資料集\n"
      ]
    },
    {
      "cell_type": "code",
      "execution_count": null,
      "metadata": {
        "id": "YWcrHz5cld3E"
      },
      "outputs": [],
      "source": [
        "train_size = int(len(data)*.7)\n",
        "val_size = int(len(data)*.2)\n",
        "test_size = int(len(data)*.1)"
      ]
    },
    {
      "cell_type": "code",
      "execution_count": null,
      "metadata": {
        "id": "z92s_qv7lil3"
      },
      "outputs": [],
      "source": [
        "train = data.take(train_size)\n",
        "val = data.skip(train_size).take(val_size)\n",
        "test = data.skip(train_size+val_size).take(test_size)"
      ]
    },
    {
      "cell_type": "markdown",
      "metadata": {
        "id": "8SMy4ud1p_TD"
      },
      "source": [
        "## 建立模型"
      ]
    },
    {
      "cell_type": "code",
      "execution_count": null,
      "metadata": {
        "colab": {
          "base_uri": "https://localhost:8080/"
        },
        "id": "xJc9KByqqBuM",
        "outputId": "49a20093-6f89-418d-f199-79cc4aa73182"
      },
      "outputs": [
        {
          "data": {
            "text/plain": [
              "<_TakeDataset element_spec=(TensorSpec(shape=(None, 256, 256, 3), dtype=tf.float32, name=None), TensorSpec(shape=(None,), dtype=tf.int32, name=None))>"
            ]
          },
          "execution_count": 16,
          "metadata": {},
          "output_type": "execute_result"
        }
      ],
      "source": [
        "train"
      ]
    },
    {
      "cell_type": "code",
      "execution_count": null,
      "metadata": {
        "id": "g83AlhQSqDuo"
      },
      "outputs": [],
      "source": [
        "from tensorflow.keras.models import Sequential\n",
        "from tensorflow.keras.layers import Conv2D, MaxPooling2D, Dense, Flatten, Dropout"
      ]
    },
    {
      "cell_type": "code",
      "execution_count": null,
      "metadata": {
        "id": "rNVYxIFoqJBr"
      },
      "outputs": [],
      "source": [
        "model = Sequential()"
      ]
    },
    {
      "cell_type": "code",
      "execution_count": null,
      "metadata": {
        "id": "kx6GkpIhqJSg"
      },
      "outputs": [],
      "source": [
        "model.add(Conv2D(16, (3,3), 1, activation='relu', input_shape=(256,256,3)))\n",
        "model.add(MaxPooling2D())\n",
        "\n",
        "model.add(Conv2D(32, (3,3), 1, activation='relu'))\n",
        "model.add(MaxPooling2D())\n",
        "\n",
        "model.add(Conv2D(16, (3,3), 1, activation='relu'))\n",
        "model.add(MaxPooling2D())\n",
        "\n",
        "model.add(Flatten())\n",
        "\n",
        "model.add(Dense(256, activation='relu'))\n",
        "model.add(Dense(40, activation='Softmax'))"
      ]
    },
    {
      "cell_type": "code",
      "execution_count": null,
      "metadata": {
        "id": "MRNK6T5JqLiK"
      },
      "outputs": [],
      "source": [
        "from sklearn.metrics import log_loss\n",
        "model.compile('adam', loss=tf.keras.losses.SparseCategoricalCrossentropy(from_logits=True), metrics=['accuracy'])"
      ]
    },
    {
      "cell_type": "code",
      "execution_count": null,
      "metadata": {
        "colab": {
          "base_uri": "https://localhost:8080/"
        },
        "id": "MsppootGqPDj",
        "outputId": "faebefeb-afbf-464c-d982-76c52315323f"
      },
      "outputs": [
        {
          "name": "stdout",
          "output_type": "stream",
          "text": [
            "Model: \"sequential\"\n",
            "_________________________________________________________________\n",
            " Layer (type)                Output Shape              Param #   \n",
            "=================================================================\n",
            " conv2d (Conv2D)             (None, 254, 254, 16)      448       \n",
            "                                                                 \n",
            " max_pooling2d (MaxPooling2D  (None, 127, 127, 16)     0         \n",
            " )                                                               \n",
            "                                                                 \n",
            " conv2d_1 (Conv2D)           (None, 125, 125, 32)      4640      \n",
            "                                                                 \n",
            " max_pooling2d_1 (MaxPooling  (None, 62, 62, 32)       0         \n",
            " 2D)                                                             \n",
            "                                                                 \n",
            " conv2d_2 (Conv2D)           (None, 60, 60, 16)        4624      \n",
            "                                                                 \n",
            " max_pooling2d_2 (MaxPooling  (None, 30, 30, 16)       0         \n",
            " 2D)                                                             \n",
            "                                                                 \n",
            " flatten (Flatten)           (None, 14400)             0         \n",
            "                                                                 \n",
            " dense (Dense)               (None, 256)               3686656   \n",
            "                                                                 \n",
            " dense_1 (Dense)             (None, 40)                10280     \n",
            "                                                                 \n",
            "=================================================================\n",
            "Total params: 3,706,648\n",
            "Trainable params: 3,706,648\n",
            "Non-trainable params: 0\n",
            "_________________________________________________________________\n"
          ]
        }
      ],
      "source": [
        "model.summary()"
      ]
    },
    {
      "cell_type": "markdown",
      "metadata": {
        "id": "XXm56T-EqV4g"
      },
      "source": [
        "## 訓練模型"
      ]
    },
    {
      "cell_type": "code",
      "execution_count": null,
      "metadata": {
        "id": "scdp9020qSj1"
      },
      "outputs": [],
      "source": [
        "logdir='logs'"
      ]
    },
    {
      "cell_type": "code",
      "execution_count": null,
      "metadata": {
        "id": "i0XecDmnqPON"
      },
      "outputs": [],
      "source": [
        "tensorboard_callback = tf.keras.callbacks.TensorBoard(log_dir=logdir)"
      ]
    },
    {
      "cell_type": "markdown",
      "metadata": {
        "id": "JsshSKSpBHwx"
      },
      "source": []
    },
    {
      "cell_type": "code",
      "execution_count": null,
      "metadata": {
        "colab": {
          "base_uri": "https://localhost:8080/"
        },
        "id": "t_lBLqJmqZZd",
        "outputId": "05034426-7de7-4001-fe62-5b3b37f45146"
      },
      "outputs": [
        {
          "name": "stdout",
          "output_type": "stream",
          "text": [
            "Epoch 1/10\n"
          ]
        },
        {
          "name": "stderr",
          "output_type": "stream",
          "text": [
            "/usr/local/lib/python3.10/dist-packages/keras/backend.py:5612: UserWarning: \"`sparse_categorical_crossentropy` received `from_logits=True`, but the `output` argument was produced by a Softmax activation and thus does not represent logits. Was this intended?\n",
            "  output, from_logits = _get_logits(\n"
          ]
        },
        {
          "name": "stdout",
          "output_type": "stream",
          "text": [
            "87/87 [==============================] - 352s 4s/step - loss: 3.4159 - accuracy: 0.1135 - val_loss: 2.6045 - val_accuracy: 0.2750\n",
            "Epoch 2/10\n",
            "87/87 [==============================] - 18s 206ms/step - loss: 1.5163 - accuracy: 0.5948 - val_loss: 0.5757 - val_accuracy: 0.8525\n",
            "Epoch 3/10\n",
            "87/87 [==============================] - 19s 211ms/step - loss: 0.3028 - accuracy: 0.9249 - val_loss: 0.1040 - val_accuracy: 0.9750\n",
            "Epoch 4/10\n",
            "87/87 [==============================] - 19s 206ms/step - loss: 0.1319 - accuracy: 0.9648 - val_loss: 0.0772 - val_accuracy: 0.9775\n",
            "Epoch 5/10\n",
            "87/87 [==============================] - 18s 205ms/step - loss: 0.0680 - accuracy: 0.9824 - val_loss: 0.0253 - val_accuracy: 0.9950\n",
            "Epoch 6/10\n",
            "87/87 [==============================] - 20s 222ms/step - loss: 0.0705 - accuracy: 0.9810 - val_loss: 0.0355 - val_accuracy: 0.9900\n",
            "Epoch 7/10\n",
            "87/87 [==============================] - 19s 209ms/step - loss: 0.0115 - accuracy: 0.9975 - val_loss: 0.0028 - val_accuracy: 1.0000\n",
            "Epoch 8/10\n",
            "87/87 [==============================] - 20s 225ms/step - loss: 0.0080 - accuracy: 0.9975 - val_loss: 0.0492 - val_accuracy: 0.9875\n",
            "Epoch 9/10\n",
            "87/87 [==============================] - 20s 216ms/step - loss: 0.0154 - accuracy: 0.9968 - val_loss: 0.0058 - val_accuracy: 1.0000\n",
            "Epoch 10/10\n",
            "87/87 [==============================] - 19s 211ms/step - loss: 0.0030 - accuracy: 0.9996 - val_loss: 3.9531e-04 - val_accuracy: 1.0000\n"
          ]
        }
      ],
      "source": [
        "hist = model.fit(train,epochs=10,batch_size=100 ,validation_data=val, callbacks=[tensorboard_callback])"
      ]
    },
    {
      "cell_type": "markdown",
      "metadata": {
        "id": "v8azpVuOqdT7"
      },
      "source": [
        "## 訓練結果呈現"
      ]
    },
    {
      "cell_type": "code",
      "execution_count": null,
      "metadata": {
        "colab": {
          "base_uri": "https://localhost:8080/",
          "height": 478
        },
        "id": "C17A65jfqre4",
        "outputId": "8ac99ad8-1d5a-4d5a-87ab-beebe7e7d551"
      },
      "outputs": [
        {
          "data": {
            "image/png": "[encoded data removed]",
            "text/plain": [
              "<Figure size 640x480 with 1 Axes>"
            ]
          },
          "metadata": {},
          "output_type": "display_data"
        }
      ],
      "source": [
        "fig = plt.figure()\n",
        "plt.plot(hist.history['loss'], color='teal', label='loss')\n",
        "plt.plot(hist.history['val_loss'], color='orange', label='val_loss')\n",
        "fig.suptitle('Loss', fontsize=20)\n",
        "plt.legend(loc=\"upper left\")\n",
        "plt.show()"
      ]
    },
    {
      "cell_type": "code",
      "execution_count": null,
      "metadata": {
        "colab": {
          "base_uri": "https://localhost:8080/",
          "height": 495
        },
        "id": "qxcP8U-BqrsE",
        "outputId": "871f4d8a-21bd-4884-da57-87410ae30348"
      },
      "outputs": [
        {
          "name": "stdout",
          "output_type": "stream",
          "text": [
            "[0.11350574344396591, 0.5948275923728943, 0.9249281883239746, 0.9647988677024841, 0.9823994040489197, 0.9809626340866089, 0.9974856376647949, 0.9974856376647949, 0.9967672228813171, 0.9996408224105835]\n"
          ]
        },
        {
          "data": {
            "image/png": "[encoded data removed]",
            "text/plain": [
              "<Figure size 640x480 with 1 Axes>"
            ]
          },
          "metadata": {},
          "output_type": "display_data"
        }
      ],
      "source": [
        "fig = plt.figure()\n",
        "print(hist.history['accuracy'])\n",
        "plt.plot(hist.history['accuracy'], color='teal', label='accuracy')\n",
        "plt.plot(hist.history['val_accuracy'], color='orange', label='val_accuracy')\n",
        "fig.suptitle('Accuracy', fontsize=20)\n",
        "plt.legend(loc=\"upper left\")\n",
        "plt.show()"
      ]
    },
    {
      "cell_type": "markdown",
      "metadata": {
        "id": "yXPOlidjq47H"
      },
      "source": [
        "## 用測試集進行測試"
      ]
    },
    {
      "cell_type": "code",
      "execution_count": null,
      "metadata": {
        "id": "8Wr8d0ZLqcyG"
      },
      "outputs": [],
      "source": [
        "from tensorflow.keras.metrics import Precision, Recall, SparseCategoricalAccuracy,BinaryAccuracy,Accuracy"
      ]
    },
    {
      "cell_type": "code",
      "execution_count": null,
      "metadata": {
        "id": "As-7KbXFsRr2"
      },
      "outputs": [],
      "source": [
        "pre = Precision()\n",
        "re = Recall()\n",
        "acc = Accuracy()"
      ]
    },
    {
      "cell_type": "code",
      "execution_count": null,
      "metadata": {
        "colab": {
          "base_uri": "https://localhost:8080/"
        },
        "id": "VCl89krHsU7o",
        "outputId": "50f3f1e7-2e23-4ce3-e1d2-e59134484ade"
      },
      "outputs": [
        {
          "name": "stdout",
          "output_type": "stream",
          "text": [
            "1/1 [==============================] - 0s 131ms/step\n",
            "1/1 [==============================] - 0s 42ms/step\n",
            "1/1 [==============================] - 0s 57ms/step\n",
            "1/1 [==============================] - 0s 39ms/step\n",
            "1/1 [==============================] - 0s 40ms/step\n",
            "1/1 [==============================] - 0s 39ms/step\n",
            "1/1 [==============================] - 0s 42ms/step\n",
            "1/1 [==============================] - 0s 36ms/step\n",
            "1/1 [==============================] - 0s 35ms/step\n",
            "1/1 [==============================] - 0s 39ms/step\n",
            "1/1 [==============================] - 0s 41ms/step\n",
            "1/1 [==============================] - 0s 35ms/step\n"
          ]
        }
      ],
      "source": [
        "for batch in test.as_numpy_iterator():\n",
        "  X, y = batch\n",
        "  yhat = model.predict(X)\n",
        "  y_pred=np.argmax(yhat,axis=1)\n",
        "  #print(y.shape)\n",
        "  #print(yhat.shape)\n",
        "  #print(y)\n",
        "  #print(yhat)\n",
        "  pre.update_state(y, y_pred)\n",
        "  re.update_state(y, y_pred)\n",
        "  acc.update_state(y, y_pred)"
      ]
    },
    {
      "cell_type": "code",
      "execution_count": null,
      "metadata": {
        "colab": {
          "base_uri": "https://localhost:8080/"
        },
        "id": "Pv2mkHDXsVs7",
        "outputId": "b86e89e9-a7c1-4fd9-b711-be7cb192406e"
      },
      "outputs": [
        {
          "name": "stdout",
          "output_type": "stream",
          "text": [
            "1.0 1.0 1.0\n"
          ]
        }
      ],
      "source": [
        "print(pre.result().numpy(),re.result().numpy(),acc.result().numpy())"
      ]
    },
    {
      "cell_type": "markdown",
      "metadata": {
        "id": "ZoEN93aIMW_f"
      },
      "source": [
        "# 其他嘗試資料集名稱\n",
        "Only模糊化\n",
        "\n",
        "原本dataset：train_group\n",
        "\n",
        "彩圖dataset；train_group_ver2\n",
        "\n",
        "／／／／／／\n",
        "\n",
        "改變參數-交錯\n",
        "train:train_group_8\n",
        "test:test_group_8\n",
        "\n",
        "改變遮罩-0(test)\n",
        "train:train_group_8\n",
        "test:test_group_8\n",
        "\n",
        "改變遮罩-50(test)\n",
        "train:train_group_8\n",
        "test:test_group_8_50\n",
        "\n",
        "改變遮罩-75(test)\n",
        "train:train_group_8\n",
        "test:test_group_8_75\n",
        "\n",
        "改變遮罩-50(train&test)\n",
        "train&test:train_group_mask\n",
        "\n",
        "改變遮罩-75(train&test)\n",
        "train&test:train_group_mask2\n",
        "\n",
        "改變參數-減少參數\n",
        "train:train_group_8_less\n",
        "test:test_group_8_less\n",
        "\n",
        "改變參數-減少參數&99+\n",
        "train:train_group_8_less\n",
        "test:test_group_99_less\n",
        "\n",
        "改變參數-99+(test皆為模糊化)\n",
        "train:train_group_8\n",
        "test:test_group_99_less"
      ]
    },
    {
      "cell_type": "markdown",
      "metadata": {
        "id": "BC9ENL31VGeP"
      },
      "source": [
        "# 實驗3-1~3-2:嘗試用遮罩1、遮罩2\n"
      ]
    },
    {
      "cell_type": "markdown",
      "metadata": {
        "id": "XFbfFlFfVGeW"
      },
      "source": [
        "## get圖片"
      ]
    },
    {
      "cell_type": "code",
      "execution_count": null,
      "metadata": {
        "id": "nN0pYoQQVGeW"
      },
      "outputs": [],
      "source": [
        "import numpy as np\n",
        "from matplotlib import pyplot as plt\n",
        "import cv2 as cv"
      ]
    },
    {
      "cell_type": "code",
      "execution_count": null,
      "metadata": {
        "colab": {
          "base_uri": "https://localhost:8080/"
        },
        "id": "wLnmHrzyVGeW",
        "outputId": "08d5a038-ab13-4d85-866f-2581b419faa9"
      },
      "outputs": [
        {
          "name": "stdout",
          "output_type": "stream",
          "text": [
            "Found 4000 files belonging to 40 classes.\n"
          ]
        }
      ],
      "source": [
        "#data = tf.keras.utils.image_dataset_from_directory('/content/gdrive/MyDrive/Security/train_group_mask') #50%\n",
        "data = tf.keras.utils.image_dataset_from_directory('/content/gdrive/MyDrive/Security/train_group_mask2')#75%"
      ]
    },
    {
      "cell_type": "code",
      "execution_count": null,
      "metadata": {
        "id": "8k6w8_sxVGeX"
      },
      "outputs": [],
      "source": [
        "data_iterator = data.as_numpy_iterator()"
      ]
    },
    {
      "cell_type": "code",
      "execution_count": null,
      "metadata": {
        "id": "WT4rxKoMVGeX"
      },
      "outputs": [],
      "source": [
        "batch = data_iterator.next()"
      ]
    },
    {
      "cell_type": "code",
      "execution_count": null,
      "metadata": {
        "colab": {
          "base_uri": "https://localhost:8080/"
        },
        "id": "ozecTDo2VGeX",
        "outputId": "ead35d16-3d30-45bc-941c-fdb956d6c6d5"
      },
      "outputs": [
        {
          "data": {
            "text/plain": [
              "array([31, 21, 14, 33,  4, 32,  9, 14, 25,  3, 26,  8,  6, 33, 23,  5, 35,\n",
              "       14,  2, 13, 10, 19, 27, 20,  6, 39, 14,  3, 24,  8, 28, 13],\n",
              "      dtype=int32)"
            ]
          },
          "execution_count": 38,
          "metadata": {},
          "output_type": "execute_result"
        }
      ],
      "source": [
        "batch[1]"
      ]
    },
    {
      "cell_type": "code",
      "execution_count": null,
      "metadata": {
        "colab": {
          "base_uri": "https://localhost:8080/",
          "height": 35
        },
        "id": "dWeR-AvQVGeX",
        "outputId": "107caef9-2c4b-419b-e15d-45e8892cdfa7"
      },
      "outputs": [
        {
          "data": {
            "application/vnd.google.colaboratory.intrinsic+json": {
              "type": "string"
            },
            "text/plain": [
              "'fig, ax = plt.subplots(ncols=4, figsize=(20,20))\\nfor idx, img in enumerate(batch[0][:4]):\\n    ax[idx].imshow(img.astype(int))\\n    ax[idx].title.set_text(batch[1][idx])'"
            ]
          },
          "execution_count": 39,
          "metadata": {},
          "output_type": "execute_result"
        }
      ],
      "source": [
        "'''fig, ax = plt.subplots(ncols=4, figsize=(20,20))\n",
        "for idx, img in enumerate(batch[0][:4]):\n",
        "    ax[idx].imshow(img.astype(int))\n",
        "    ax[idx].title.set_text(batch[1][idx])'''"
      ]
    },
    {
      "cell_type": "code",
      "execution_count": null,
      "metadata": {
        "id": "V2Ipz6xQVGeY"
      },
      "outputs": [],
      "source": [
        "#print(batch[0].max())\n",
        "#print(batch[0].min())\n",
        "data = data.map(lambda x,y: (x/255, y)) #將値控制在0~1之間"
      ]
    },
    {
      "cell_type": "code",
      "execution_count": null,
      "metadata": {
        "colab": {
          "base_uri": "https://localhost:8080/"
        },
        "id": "06fQhpJpVGeY",
        "outputId": "254bb9e3-9fe4-4d74-f068-b668510531a3"
      },
      "outputs": [
        {
          "data": {
            "text/plain": [
              "(array([[[[0.46666667, 0.46666667, 0.46666667],\n",
              "          [0.46666667, 0.46666667, 0.46666667],\n",
              "          [0.46666667, 0.46666667, 0.46666667],\n",
              "          ...,\n",
              "          [0.        , 0.        , 0.        ],\n",
              "          [0.        , 0.        , 0.        ],\n",
              "          [0.        , 0.        , 0.        ]],\n",
              " \n",
              "         [[0.46666667, 0.46666667, 0.46666667],\n",
              "          [0.46666667, 0.46666667, 0.46666667],\n",
              "          [0.46666667, 0.46666667, 0.46666667],\n",
              "          ...,\n",
              "          [0.        , 0.        , 0.        ],\n",
              "          [0.        , 0.        , 0.        ],\n",
              "          [0.        , 0.        , 0.        ]],\n",
              " \n",
              "         [[0.46666667, 0.46666667, 0.46666667],\n",
              "          [0.46666667, 0.46666667, 0.46666667],\n",
              "          [0.46666667, 0.46666667, 0.46666667],\n",
              "          ...,\n",
              "          [0.        , 0.        , 0.        ],\n",
              "          [0.        , 0.        , 0.        ],\n",
              "          [0.        , 0.        , 0.        ]],\n",
              " \n",
              "         ...,\n",
              " \n",
              "         [[0.        , 0.        , 0.        ],\n",
              "          [0.        , 0.        , 0.        ],\n",
              "          [0.        , 0.        , 0.        ],\n",
              "          ...,\n",
              "          [0.        , 0.        , 0.        ],\n",
              "          [0.        , 0.        , 0.        ],\n",
              "          [0.        , 0.        , 0.        ]],\n",
              " \n",
              "         [[0.        , 0.        , 0.        ],\n",
              "          [0.        , 0.        , 0.        ],\n",
              "          [0.        , 0.        , 0.        ],\n",
              "          ...,\n",
              "          [0.        , 0.        , 0.        ],\n",
              "          [0.        , 0.        , 0.        ],\n",
              "          [0.        , 0.        , 0.        ]],\n",
              " \n",
              "         [[0.        , 0.        , 0.        ],\n",
              "          [0.        , 0.        , 0.        ],\n",
              "          [0.        , 0.        , 0.        ],\n",
              "          ...,\n",
              "          [0.        , 0.        , 0.        ],\n",
              "          [0.        , 0.        , 0.        ],\n",
              "          [0.        , 0.        , 0.        ]]],\n",
              " \n",
              " \n",
              "        [[[0.2901961 , 0.2901961 , 0.2901961 ],\n",
              "          [0.2901961 , 0.2901961 , 0.2901961 ],\n",
              "          [0.2901961 , 0.2901961 , 0.2901961 ],\n",
              "          ...,\n",
              "          [0.        , 0.        , 0.        ],\n",
              "          [0.        , 0.        , 0.        ],\n",
              "          [0.        , 0.        , 0.        ]],\n",
              " \n",
              "         [[0.2901961 , 0.2901961 , 0.2901961 ],\n",
              "          [0.2901961 , 0.2901961 , 0.2901961 ],\n",
              "          [0.2901961 , 0.2901961 , 0.2901961 ],\n",
              "          ...,\n",
              "          [0.        , 0.        , 0.        ],\n",
              "          [0.        , 0.        , 0.        ],\n",
              "          [0.        , 0.        , 0.        ]],\n",
              " \n",
              "         [[0.2901961 , 0.2901961 , 0.2901961 ],\n",
              "          [0.2901961 , 0.2901961 , 0.2901961 ],\n",
              "          [0.2901961 , 0.2901961 , 0.2901961 ],\n",
              "          ...,\n",
              "          [0.        , 0.        , 0.        ],\n",
              "          [0.        , 0.        , 0.        ],\n",
              "          [0.        , 0.        , 0.        ]],\n",
              " \n",
              "         ...,\n",
              " \n",
              "         [[0.        , 0.        , 0.        ],\n",
              "          [0.        , 0.        , 0.        ],\n",
              "          [0.        , 0.        , 0.        ],\n",
              "          ...,\n",
              "          [0.        , 0.        , 0.        ],\n",
              "          [0.        , 0.        , 0.        ],\n",
              "          [0.        , 0.        , 0.        ]],\n",
              " \n",
              "         [[0.        , 0.        , 0.        ],\n",
              "          [0.        , 0.        , 0.        ],\n",
              "          [0.        , 0.        , 0.        ],\n",
              "          ...,\n",
              "          [0.        , 0.        , 0.        ],\n",
              "          [0.        , 0.        , 0.        ],\n",
              "          [0.        , 0.        , 0.        ]],\n",
              " \n",
              "         [[0.        , 0.        , 0.        ],\n",
              "          [0.        , 0.        , 0.        ],\n",
              "          [0.        , 0.        , 0.        ],\n",
              "          ...,\n",
              "          [0.        , 0.        , 0.        ],\n",
              "          [0.        , 0.        , 0.        ],\n",
              "          [0.        , 0.        , 0.        ]]],\n",
              " \n",
              " \n",
              "        [[[0.21960784, 0.21960784, 0.21960784],\n",
              "          [0.21960784, 0.21960784, 0.21960784],\n",
              "          [0.22032782, 0.22032782, 0.22032782],\n",
              "          ...,\n",
              "          [0.        , 0.        , 0.        ],\n",
              "          [0.        , 0.        , 0.        ],\n",
              "          [0.        , 0.        , 0.        ]],\n",
              " \n",
              "         [[0.21960784, 0.21960784, 0.21960784],\n",
              "          [0.21960784, 0.21960784, 0.21960784],\n",
              "          [0.22032782, 0.22032782, 0.22032782],\n",
              "          ...,\n",
              "          [0.        , 0.        , 0.        ],\n",
              "          [0.        , 0.        , 0.        ],\n",
              "          [0.        , 0.        , 0.        ]],\n",
              " \n",
              "         [[0.21960784, 0.21960784, 0.21960784],\n",
              "          [0.21960784, 0.21960784, 0.21960784],\n",
              "          [0.22032782, 0.22032782, 0.22032782],\n",
              "          ...,\n",
              "          [0.        , 0.        , 0.        ],\n",
              "          [0.        , 0.        , 0.        ],\n",
              "          [0.        , 0.        , 0.        ]],\n",
              " \n",
              "         ...,\n",
              " \n",
              "         [[0.        , 0.        , 0.        ],\n",
              "          [0.        , 0.        , 0.        ],\n",
              "          [0.        , 0.        , 0.        ],\n",
              "          ...,\n",
              "          [0.        , 0.        , 0.        ],\n",
              "          [0.        , 0.        , 0.        ],\n",
              "          [0.        , 0.        , 0.        ]],\n",
              " \n",
              "         [[0.        , 0.        , 0.        ],\n",
              "          [0.        , 0.        , 0.        ],\n",
              "          [0.        , 0.        , 0.        ],\n",
              "          ...,\n",
              "          [0.        , 0.        , 0.        ],\n",
              "          [0.        , 0.        , 0.        ],\n",
              "          [0.        , 0.        , 0.        ]],\n",
              " \n",
              "         [[0.        , 0.        , 0.        ],\n",
              "          [0.        , 0.        , 0.        ],\n",
              "          [0.        , 0.        , 0.        ],\n",
              "          ...,\n",
              "          [0.        , 0.        , 0.        ],\n",
              "          [0.        , 0.        , 0.        ],\n",
              "          [0.        , 0.        , 0.        ]]],\n",
              " \n",
              " \n",
              "        ...,\n",
              " \n",
              " \n",
              "        [[[0.13725491, 0.13725491, 0.13725491],\n",
              "          [0.13725491, 0.13725491, 0.13725491],\n",
              "          [0.13725491, 0.13725491, 0.13725491],\n",
              "          ...,\n",
              "          [0.        , 0.        , 0.        ],\n",
              "          [0.        , 0.        , 0.        ],\n",
              "          [0.        , 0.        , 0.        ]],\n",
              " \n",
              "         [[0.13725491, 0.13725491, 0.13725491],\n",
              "          [0.13725491, 0.13725491, 0.13725491],\n",
              "          [0.13725491, 0.13725491, 0.13725491],\n",
              "          ...,\n",
              "          [0.        , 0.        , 0.        ],\n",
              "          [0.        , 0.        , 0.        ],\n",
              "          [0.        , 0.        , 0.        ]],\n",
              " \n",
              "         [[0.13725491, 0.13725491, 0.13725491],\n",
              "          [0.13725491, 0.13725491, 0.13725491],\n",
              "          [0.1374574 , 0.1374574 , 0.1374574 ],\n",
              "          ...,\n",
              "          [0.        , 0.        , 0.        ],\n",
              "          [0.        , 0.        , 0.        ],\n",
              "          [0.        , 0.        , 0.        ]],\n",
              " \n",
              "         ...,\n",
              " \n",
              "         [[0.        , 0.        , 0.        ],\n",
              "          [0.        , 0.        , 0.        ],\n",
              "          [0.        , 0.        , 0.        ],\n",
              "          ...,\n",
              "          [0.        , 0.        , 0.        ],\n",
              "          [0.        , 0.        , 0.        ],\n",
              "          [0.        , 0.        , 0.        ]],\n",
              " \n",
              "         [[0.        , 0.        , 0.        ],\n",
              "          [0.        , 0.        , 0.        ],\n",
              "          [0.        , 0.        , 0.        ],\n",
              "          ...,\n",
              "          [0.        , 0.        , 0.        ],\n",
              "          [0.        , 0.        , 0.        ],\n",
              "          [0.        , 0.        , 0.        ]],\n",
              " \n",
              "         [[0.        , 0.        , 0.        ],\n",
              "          [0.        , 0.        , 0.        ],\n",
              "          [0.        , 0.        , 0.        ],\n",
              "          ...,\n",
              "          [0.        , 0.        , 0.        ],\n",
              "          [0.        , 0.        , 0.        ],\n",
              "          [0.        , 0.        , 0.        ]]],\n",
              " \n",
              " \n",
              "        [[[0.4862745 , 0.4862745 , 0.4862745 ],\n",
              "          [0.4862745 , 0.4862745 , 0.4862745 ],\n",
              "          [0.4862745 , 0.4862745 , 0.4862745 ],\n",
              "          ...,\n",
              "          [0.        , 0.        , 0.        ],\n",
              "          [0.        , 0.        , 0.        ],\n",
              "          [0.        , 0.        , 0.        ]],\n",
              " \n",
              "         [[0.4862745 , 0.4862745 , 0.4862745 ],\n",
              "          [0.4862745 , 0.4862745 , 0.4862745 ],\n",
              "          [0.4862745 , 0.4862745 , 0.4862745 ],\n",
              "          ...,\n",
              "          [0.        , 0.        , 0.        ],\n",
              "          [0.        , 0.        , 0.        ],\n",
              "          [0.        , 0.        , 0.        ]],\n",
              " \n",
              "         [[0.4862745 , 0.4862745 , 0.4862745 ],\n",
              "          [0.4862745 , 0.4862745 , 0.4862745 ],\n",
              "          [0.4862745 , 0.4862745 , 0.4862745 ],\n",
              "          ...,\n",
              "          [0.        , 0.        , 0.        ],\n",
              "          [0.        , 0.        , 0.        ],\n",
              "          [0.        , 0.        , 0.        ]],\n",
              " \n",
              "         ...,\n",
              " \n",
              "         [[0.        , 0.        , 0.        ],\n",
              "          [0.        , 0.        , 0.        ],\n",
              "          [0.        , 0.        , 0.        ],\n",
              "          ...,\n",
              "          [0.        , 0.        , 0.        ],\n",
              "          [0.        , 0.        , 0.        ],\n",
              "          [0.        , 0.        , 0.        ]],\n",
              " \n",
              "         [[0.        , 0.        , 0.        ],\n",
              "          [0.        , 0.        , 0.        ],\n",
              "          [0.        , 0.        , 0.        ],\n",
              "          ...,\n",
              "          [0.        , 0.        , 0.        ],\n",
              "          [0.        , 0.        , 0.        ],\n",
              "          [0.        , 0.        , 0.        ]],\n",
              " \n",
              "         [[0.        , 0.        , 0.        ],\n",
              "          [0.        , 0.        , 0.        ],\n",
              "          [0.        , 0.        , 0.        ],\n",
              "          ...,\n",
              "          [0.        , 0.        , 0.        ],\n",
              "          [0.        , 0.        , 0.        ],\n",
              "          [0.        , 0.        , 0.        ]]],\n",
              " \n",
              " \n",
              "        [[[0.4627451 , 0.4627451 , 0.4627451 ],\n",
              "          [0.4627451 , 0.4627451 , 0.4627451 ],\n",
              "          [0.4627451 , 0.4627451 , 0.4627451 ],\n",
              "          ...,\n",
              "          [0.        , 0.        , 0.        ],\n",
              "          [0.        , 0.        , 0.        ],\n",
              "          [0.        , 0.        , 0.        ]],\n",
              " \n",
              "         [[0.4627451 , 0.4627451 , 0.4627451 ],\n",
              "          [0.4627451 , 0.4627451 , 0.4627451 ],\n",
              "          [0.4627451 , 0.4627451 , 0.4627451 ],\n",
              "          ...,\n",
              "          [0.        , 0.        , 0.        ],\n",
              "          [0.        , 0.        , 0.        ],\n",
              "          [0.        , 0.        , 0.        ]],\n",
              " \n",
              "         [[0.46164215, 0.46164215, 0.46164215],\n",
              "          [0.46164215, 0.46164215, 0.46164215],\n",
              "          [0.46164215, 0.46164215, 0.46164215],\n",
              "          ...,\n",
              "          [0.        , 0.        , 0.        ],\n",
              "          [0.        , 0.        , 0.        ],\n",
              "          [0.        , 0.        , 0.        ]],\n",
              " \n",
              "         ...,\n",
              " \n",
              "         [[0.        , 0.        , 0.        ],\n",
              "          [0.        , 0.        , 0.        ],\n",
              "          [0.        , 0.        , 0.        ],\n",
              "          ...,\n",
              "          [0.        , 0.        , 0.        ],\n",
              "          [0.        , 0.        , 0.        ],\n",
              "          [0.        , 0.        , 0.        ]],\n",
              " \n",
              "         [[0.        , 0.        , 0.        ],\n",
              "          [0.        , 0.        , 0.        ],\n",
              "          [0.        , 0.        , 0.        ],\n",
              "          ...,\n",
              "          [0.        , 0.        , 0.        ],\n",
              "          [0.        , 0.        , 0.        ],\n",
              "          [0.        , 0.        , 0.        ]],\n",
              " \n",
              "         [[0.        , 0.        , 0.        ],\n",
              "          [0.        , 0.        , 0.        ],\n",
              "          [0.        , 0.        , 0.        ],\n",
              "          ...,\n",
              "          [0.        , 0.        , 0.        ],\n",
              "          [0.        , 0.        , 0.        ],\n",
              "          [0.        , 0.        , 0.        ]]]], dtype=float32),\n",
              " array([17, 26, 14,  5,  1, 35, 25, 39, 19, 19,  4,  9,  9, 38, 27,  5, 30,\n",
              "         7,  1, 29, 20, 39, 14,  0,  5, 20, 25, 18, 36, 16, 34,  1],\n",
              "       dtype=int32))"
            ]
          },
          "execution_count": 41,
          "metadata": {},
          "output_type": "execute_result"
        }
      ],
      "source": [
        "data.as_numpy_iterator().next()"
      ]
    },
    {
      "cell_type": "markdown",
      "metadata": {
        "id": "7sT24-rrVGeY"
      },
      "source": [
        "## 分割資料集\n"
      ]
    },
    {
      "cell_type": "code",
      "execution_count": null,
      "metadata": {
        "id": "kl60v0GhVGeY"
      },
      "outputs": [],
      "source": [
        "train_size = int(len(data)*.7)\n",
        "val_size = int(len(data)*.2)\n",
        "test_size = int(len(data)*.1)"
      ]
    },
    {
      "cell_type": "code",
      "execution_count": null,
      "metadata": {
        "id": "dU3H1q84VGeY"
      },
      "outputs": [],
      "source": [
        "train = data.take(train_size)\n",
        "val = data.skip(train_size).take(val_size)\n",
        "test = data.skip(train_size+val_size).take(test_size)"
      ]
    },
    {
      "cell_type": "markdown",
      "metadata": {
        "id": "anVLU0V6VGeY"
      },
      "source": [
        "## 建立模型"
      ]
    },
    {
      "cell_type": "code",
      "execution_count": null,
      "metadata": {
        "colab": {
          "base_uri": "https://localhost:8080/"
        },
        "id": "C6WfneMQVGeY",
        "outputId": "fea1c4d2-fb42-4731-b6c7-15c25bc5f6b8"
      },
      "outputs": [
        {
          "data": {
            "text/plain": [
              "<_TakeDataset element_spec=(TensorSpec(shape=(None, 256, 256, 3), dtype=tf.float32, name=None), TensorSpec(shape=(None,), dtype=tf.int32, name=None))>"
            ]
          },
          "execution_count": 44,
          "metadata": {},
          "output_type": "execute_result"
        }
      ],
      "source": [
        "train"
      ]
    },
    {
      "cell_type": "code",
      "execution_count": null,
      "metadata": {
        "id": "YgLGSZYuVGeY"
      },
      "outputs": [],
      "source": [
        "from tensorflow.keras.models import Sequential\n",
        "from tensorflow.keras.layers import Conv2D, MaxPooling2D, Dense, Flatten, Dropout"
      ]
    },
    {
      "cell_type": "code",
      "execution_count": null,
      "metadata": {
        "id": "-dmPkskOVGeZ"
      },
      "outputs": [],
      "source": [
        "model = Sequential()"
      ]
    },
    {
      "cell_type": "code",
      "execution_count": null,
      "metadata": {
        "id": "L7CC5GkiVGeZ"
      },
      "outputs": [],
      "source": [
        "model.add(Conv2D(16, (3,3), 1, activation='relu', input_shape=(256,256,3)))\n",
        "model.add(MaxPooling2D())\n",
        "\n",
        "model.add(Conv2D(32, (3,3), 1, activation='relu'))\n",
        "model.add(MaxPooling2D())\n",
        "\n",
        "model.add(Conv2D(16, (3,3), 1, activation='relu'))\n",
        "model.add(MaxPooling2D())\n",
        "\n",
        "model.add(Flatten())\n",
        "\n",
        "model.add(Dense(256, activation='relu'))\n",
        "model.add(Dense(40, activation='Softmax'))"
      ]
    },
    {
      "cell_type": "code",
      "execution_count": null,
      "metadata": {
        "id": "d7UWon6WVGeZ"
      },
      "outputs": [],
      "source": [
        "from sklearn.metrics import log_loss\n",
        "model.compile('adam', loss= 'sparse_categorical_crossentropy', metrics=['accuracy'])"
      ]
    },
    {
      "cell_type": "code",
      "execution_count": null,
      "metadata": {
        "colab": {
          "base_uri": "https://localhost:8080/"
        },
        "id": "_Sm8TM-9VGeZ",
        "outputId": "a7629ab2-c714-4ede-bcde-6f4575871130"
      },
      "outputs": [
        {
          "name": "stdout",
          "output_type": "stream",
          "text": [
            "Model: \"sequential_1\"\n",
            "_________________________________________________________________\n",
            " Layer (type)                Output Shape              Param #   \n",
            "=================================================================\n",
            " conv2d_3 (Conv2D)           (None, 254, 254, 16)      448       \n",
            "                                                                 \n",
            " max_pooling2d_3 (MaxPooling  (None, 127, 127, 16)     0         \n",
            " 2D)                                                             \n",
            "                                                                 \n",
            " conv2d_4 (Conv2D)           (None, 125, 125, 32)      4640      \n",
            "                                                                 \n",
            " max_pooling2d_4 (MaxPooling  (None, 62, 62, 32)       0         \n",
            " 2D)                                                             \n",
            "                                                                 \n",
            " conv2d_5 (Conv2D)           (None, 60, 60, 16)        4624      \n",
            "                                                                 \n",
            " max_pooling2d_5 (MaxPooling  (None, 30, 30, 16)       0         \n",
            " 2D)                                                             \n",
            "                                                                 \n",
            " flatten_1 (Flatten)         (None, 14400)             0         \n",
            "                                                                 \n",
            " dense_2 (Dense)             (None, 256)               3686656   \n",
            "                                                                 \n",
            " dense_3 (Dense)             (None, 40)                10280     \n",
            "                                                                 \n",
            "=================================================================\n",
            "Total params: 3,706,648\n",
            "Trainable params: 3,706,648\n",
            "Non-trainable params: 0\n",
            "_________________________________________________________________\n"
          ]
        }
      ],
      "source": [
        "model.summary()"
      ]
    },
    {
      "cell_type": "markdown",
      "metadata": {
        "id": "9Q_bHhOJVGeZ"
      },
      "source": [
        "## 訓練模型"
      ]
    },
    {
      "cell_type": "code",
      "execution_count": null,
      "metadata": {
        "id": "t2q9YSfUVGeZ"
      },
      "outputs": [],
      "source": [
        "logdir='logs'"
      ]
    },
    {
      "cell_type": "code",
      "execution_count": null,
      "metadata": {
        "id": "v2wUdWlqVGeZ"
      },
      "outputs": [],
      "source": [
        "tensorboard_callback = tf.keras.callbacks.TensorBoard(log_dir=logdir)"
      ]
    },
    {
      "cell_type": "markdown",
      "metadata": {
        "id": "pDriWy8oVGea"
      },
      "source": []
    },
    {
      "cell_type": "code",
      "execution_count": null,
      "metadata": {
        "colab": {
          "base_uri": "https://localhost:8080/"
        },
        "id": "t4ljoXXRVGec",
        "outputId": "966fa686-680c-4fa2-f15b-a3d910527813"
      },
      "outputs": [
        {
          "name": "stdout",
          "output_type": "stream",
          "text": [
            "Epoch 1/10\n",
            "87/87 [==============================] - 1107s 13s/step - loss: 3.5732 - accuracy: 0.0420 - val_loss: 3.1517 - val_accuracy: 0.1262\n",
            "Epoch 2/10\n",
            "87/87 [==============================] - 16s 184ms/step - loss: 2.3585 - accuracy: 0.3032 - val_loss: 1.9852 - val_accuracy: 0.3862\n",
            "Epoch 3/10\n",
            "87/87 [==============================] - 13s 151ms/step - loss: 1.6120 - accuracy: 0.4971 - val_loss: 1.2610 - val_accuracy: 0.6350\n",
            "Epoch 4/10\n",
            "87/87 [==============================] - 14s 153ms/step - loss: 1.1134 - accuracy: 0.6527 - val_loss: 1.0932 - val_accuracy: 0.6313\n",
            "Epoch 5/10\n",
            "87/87 [==============================] - 17s 198ms/step - loss: 0.8550 - accuracy: 0.7166 - val_loss: 0.7611 - val_accuracy: 0.7425\n",
            "Epoch 6/10\n",
            "87/87 [==============================] - 13s 152ms/step - loss: 0.7625 - accuracy: 0.7500 - val_loss: 0.6614 - val_accuracy: 0.7650\n",
            "Epoch 7/10\n",
            "87/87 [==============================] - 17s 197ms/step - loss: 0.6870 - accuracy: 0.7658 - val_loss: 0.5350 - val_accuracy: 0.8175\n",
            "Epoch 8/10\n",
            "87/87 [==============================] - 13s 142ms/step - loss: 0.5457 - accuracy: 0.8197 - val_loss: 0.4960 - val_accuracy: 0.8313\n",
            "Epoch 9/10\n",
            "87/87 [==============================] - 17s 184ms/step - loss: 0.4955 - accuracy: 0.8341 - val_loss: 0.6605 - val_accuracy: 0.7875\n",
            "Epoch 10/10\n",
            "87/87 [==============================] - 14s 156ms/step - loss: 0.4220 - accuracy: 0.8509 - val_loss: 0.4436 - val_accuracy: 0.8650\n"
          ]
        }
      ],
      "source": [
        "hist = model.fit(train,epochs=10,batch_size=100 ,validation_data=val, callbacks=[tensorboard_callback])"
      ]
    },
    {
      "cell_type": "markdown",
      "metadata": {
        "id": "tntYzgs0VGed"
      },
      "source": [
        "## 訓練結果呈現"
      ]
    },
    {
      "cell_type": "code",
      "execution_count": null,
      "metadata": {
        "colab": {
          "base_uri": "https://localhost:8080/",
          "height": 478
        },
        "id": "H_N985K0VGed",
        "outputId": "a0ec896e-eb1b-401f-c985-6fc4b0310bcd"
      },
      "outputs": [
        {
          "data": {
            "image/png": "[encoded data removed]",
            "text/plain": [
              "<Figure size 640x480 with 1 Axes>"
            ]
          },
          "metadata": {},
          "output_type": "display_data"
        }
      ],
      "source": [
        "fig = plt.figure()\n",
        "plt.plot(hist.history['loss'], color='teal', label='loss')\n",
        "plt.plot(hist.history['val_loss'], color='orange', label='val_loss')\n",
        "fig.suptitle('Loss', fontsize=20)\n",
        "plt.legend(loc=\"upper left\")\n",
        "plt.show()"
      ]
    },
    {
      "cell_type": "code",
      "execution_count": null,
      "metadata": {
        "colab": {
          "base_uri": "https://localhost:8080/",
          "height": 478
        },
        "id": "1XmpXIbVVGed",
        "outputId": "c03ba5ed-317d-4440-868e-a8ed45f66fd1"
      },
      "outputs": [
        {
          "data": {
            "image/png": "[encoded data removed]",
            "text/plain": [
              "<Figure size 640x480 with 1 Axes>"
            ]
          },
          "metadata": {},
          "output_type": "display_data"
        }
      ],
      "source": [
        "fig = plt.figure()\n",
        "plt.plot(hist.history['accuracy'], color='teal', label='accuracy')\n",
        "plt.plot(hist.history['val_accuracy'], color='orange', label='val_accuracy')\n",
        "fig.suptitle('Accuracy', fontsize=20)\n",
        "plt.legend(loc=\"upper left\")\n",
        "plt.show()"
      ]
    },
    {
      "cell_type": "code",
      "execution_count": null,
      "metadata": {
        "colab": {
          "base_uri": "https://localhost:8080/"
        },
        "id": "N_rar1lJ6-WO",
        "outputId": "b248942b-a324-4286-fc88-bc24b5ec39a3"
      },
      "outputs": [
        {
          "name": "stdout",
          "output_type": "stream",
          "text": [
            "[0.0420258603990078, 0.3031609058380127, 0.49712643027305603, 0.6526580452919006, 0.7165948152542114, 0.75, 0.7658045887947083, 0.8196839094161987, 0.8340517282485962, 0.8509339094161987]\n"
          ]
        }
      ],
      "source": [
        "print(hist.history['accuracy'])"
      ]
    },
    {
      "cell_type": "markdown",
      "metadata": {
        "id": "q9jLrXrvVGed"
      },
      "source": [
        "## 用測試集進行測試"
      ]
    },
    {
      "cell_type": "code",
      "execution_count": null,
      "metadata": {
        "id": "a9I_ybhsVGed"
      },
      "outputs": [],
      "source": [
        "from tensorflow.keras.metrics import Precision, Recall, SparseCategoricalAccuracy,BinaryAccuracy,Accuracy"
      ]
    },
    {
      "cell_type": "code",
      "execution_count": null,
      "metadata": {
        "id": "KE44kx8xVGee"
      },
      "outputs": [],
      "source": [
        "pre = Precision()\n",
        "re = Recall()\n",
        "acc = Accuracy()"
      ]
    },
    {
      "cell_type": "code",
      "execution_count": null,
      "metadata": {
        "colab": {
          "base_uri": "https://localhost:8080/"
        },
        "id": "1nRomUxQVGee",
        "outputId": "0f721584-ff0c-481e-e48c-81970c5afb5c"
      },
      "outputs": [
        {
          "name": "stdout",
          "output_type": "stream",
          "text": [
            "1/1 [==============================] - 0s 88ms/step\n",
            "1/1 [==============================] - 0s 31ms/step\n",
            "1/1 [==============================] - 0s 35ms/step\n",
            "1/1 [==============================] - 0s 33ms/step\n",
            "1/1 [==============================] - 0s 29ms/step\n",
            "1/1 [==============================] - 0s 32ms/step\n",
            "1/1 [==============================] - 0s 29ms/step\n",
            "1/1 [==============================] - 0s 39ms/step\n",
            "1/1 [==============================] - 0s 33ms/step\n",
            "1/1 [==============================] - 0s 30ms/step\n",
            "1/1 [==============================] - 0s 30ms/step\n",
            "1/1 [==============================] - 0s 29ms/step\n"
          ]
        }
      ],
      "source": [
        "for batch in test.as_numpy_iterator():\n",
        "  X, y = batch\n",
        "  yhat = model.predict(X)\n",
        "  y_pred=np.argmax(yhat,axis=1)\n",
        "  #print(y.shape)\n",
        "  #print(yhat.shape)\n",
        "  #print(y)\n",
        "  #print(yhat)\n",
        "  pre.update_state(y, y_pred)\n",
        "  re.update_state(y, y_pred)\n",
        "  acc.update_state(y, y_pred)"
      ]
    },
    {
      "cell_type": "code",
      "execution_count": null,
      "metadata": {
        "colab": {
          "base_uri": "https://localhost:8080/"
        },
        "id": "UA4fOLrlVGee",
        "outputId": "bc2f6273-0d29-4753-cf53-1db09bee1464"
      },
      "outputs": [
        {
          "name": "stdout",
          "output_type": "stream",
          "text": [
            "0.99731904 0.99731904 0.859375\n"
          ]
        }
      ],
      "source": [
        "print(pre.result().numpy(),re.result().numpy(),acc.result().numpy())"
      ]
    },
    {
      "cell_type": "markdown",
      "metadata": {
        "id": "f37UcTJ-5ZE7"
      },
      "source": [
        "# 實驗4-1~4-3:嘗試用不同模糊係數的訓練集、測試集\n",
        "\n"
      ]
    },
    {
      "cell_type": "markdown",
      "metadata": {
        "id": "fpZxx6Ca5ZE7"
      },
      "source": [
        "## get圖片"
      ]
    },
    {
      "cell_type": "code",
      "execution_count": null,
      "metadata": {
        "id": "yHgNhlvG5ZE7"
      },
      "outputs": [],
      "source": [
        "import numpy as np\n",
        "from matplotlib import pyplot as plt\n",
        "import cv2 as cv"
      ]
    },
    {
      "cell_type": "code",
      "execution_count": null,
      "metadata": {
        "colab": {
          "base_uri": "https://localhost:8080/"
        },
        "id": "VZWrTYD45ZE7",
        "outputId": "99c957e0-c9a1-4b35-ee70-184b9be78141"
      },
      "outputs": [
        {
          "output_type": "stream",
          "name": "stdout",
          "text": [
            "Found 1920 files belonging to 40 classes.\n",
            "Found 240 files belonging to 40 classes.\n"
          ]
        }
      ],
      "source": [
        "data = tf.keras.utils.image_dataset_from_directory('/content/gdrive/MyDrive/Security/train_group_8_less')\n",
        "test_data = tf.keras.utils.image_dataset_from_directory('/content/gdrive/MyDrive/Security/test_group_99_less')"
      ]
    },
    {
      "cell_type": "code",
      "execution_count": null,
      "metadata": {
        "id": "EhE81byt5ZE8"
      },
      "outputs": [],
      "source": [
        "data_iterator = data.as_numpy_iterator()\n",
        "test_data_iterator = test_data.as_numpy_iterator()"
      ]
    },
    {
      "cell_type": "code",
      "execution_count": null,
      "metadata": {
        "id": "Tk2JYUE85ZE8"
      },
      "outputs": [],
      "source": [
        "batch = data_iterator.next()\n",
        "test_batch = data_iterator.next()"
      ]
    },
    {
      "cell_type": "code",
      "execution_count": null,
      "metadata": {
        "colab": {
          "base_uri": "https://localhost:8080/"
        },
        "id": "ZhKkdqAw5ZE8",
        "outputId": "4d6fdd32-1161-49ef-a1b0-c89c6e1d86bb"
      },
      "outputs": [
        {
          "output_type": "execute_result",
          "data": {
            "text/plain": [
              "array([22, 10, 23, 22, 27, 29, 31, 27, 29, 14, 35, 38, 25, 20, 21,  7, 12,\n",
              "       23,  5, 14, 12,  4, 19,  4,  6,  9, 38,  8, 31,  8, 19, 10],\n",
              "      dtype=int32)"
            ]
          },
          "metadata": {},
          "execution_count": 108
        }
      ],
      "source": [
        "batch[1]"
      ]
    },
    {
      "cell_type": "code",
      "execution_count": null,
      "metadata": {
        "colab": {
          "base_uri": "https://localhost:8080/"
        },
        "id": "2wGqA9DPHQYr",
        "outputId": "43d8ecd4-539d-47fc-d085-8bceb6f09820"
      },
      "outputs": [
        {
          "output_type": "execute_result",
          "data": {
            "text/plain": [
              "array([26, 23,  2, 36, 18, 10, 10,  6,  0, 13,  2, 21,  1, 11, 26, 13, 16,\n",
              "       36, 13, 28, 22, 24,  6, 24, 12, 35,  2,  1,  7,  3, 11, 24],\n",
              "      dtype=int32)"
            ]
          },
          "metadata": {},
          "execution_count": 109
        }
      ],
      "source": [
        "test_batch[1]"
      ]
    },
    {
      "cell_type": "code",
      "execution_count": null,
      "metadata": {
        "colab": {
          "base_uri": "https://localhost:8080/",
          "height": 53
        },
        "id": "s8BEQnL15ZE8",
        "outputId": "44248baf-483d-4ebf-b1ce-aae44eb58c2f"
      },
      "outputs": [
        {
          "output_type": "execute_result",
          "data": {
            "text/plain": [
              "'fig, ax = plt.subplots(ncols=4, figsize=(20,20))\\nfor idx, img in enumerate(batch[0][:4]):\\n    ax[idx].imshow(img.astype(int))\\n    ax[idx].title.set_text(batch[1][idx])'"
            ],
            "application/vnd.google.colaboratory.intrinsic+json": {
              "type": "string"
            }
          },
          "metadata": {},
          "execution_count": 110
        }
      ],
      "source": [
        "'''fig, ax = plt.subplots(ncols=4, figsize=(20,20))\n",
        "for idx, img in enumerate(batch[0][:4]):\n",
        "    ax[idx].imshow(img.astype(int))\n",
        "    ax[idx].title.set_text(batch[1][idx])'''"
      ]
    },
    {
      "cell_type": "code",
      "execution_count": null,
      "metadata": {
        "id": "QiTWyn795ZE8"
      },
      "outputs": [],
      "source": [
        "#print(batch[0].max())\n",
        "#print(batch[0].min())\n",
        "data = data.map(lambda x,y: (x/255, y)) #將値控制在0~1之間\n",
        "test_data = test_data.map(lambda x,y: (x/255, y))"
      ]
    },
    {
      "cell_type": "code",
      "execution_count": null,
      "metadata": {
        "id": "ljunj9Hj5ZE8"
      },
      "outputs": [],
      "source": [
        "#data.as_numpy_iterator().next()"
      ]
    },
    {
      "cell_type": "markdown",
      "metadata": {
        "id": "45sNHyHd5ZE8"
      },
      "source": [
        "## 分割資料集\n"
      ]
    },
    {
      "cell_type": "code",
      "execution_count": null,
      "metadata": {
        "id": "aD3qj3Xd5ZE8"
      },
      "outputs": [],
      "source": [
        "train_size = int(len(data)*.8)\n",
        "val_size = int(len(data)*.2)\n",
        "#test_size = int(len(data)*.1)"
      ]
    },
    {
      "cell_type": "code",
      "execution_count": null,
      "metadata": {
        "id": "dlR9yOHl5ZE9"
      },
      "outputs": [],
      "source": [
        "train = data.take(train_size)\n",
        "val = data.skip(train_size).take(val_size)\n",
        "#test = data.skip(train_size+val_size).take(test_size)"
      ]
    },
    {
      "cell_type": "markdown",
      "metadata": {
        "id": "D3ElDDDa5ZE9"
      },
      "source": [
        "## 建立模型"
      ]
    },
    {
      "cell_type": "code",
      "execution_count": null,
      "metadata": {
        "colab": {
          "base_uri": "https://localhost:8080/"
        },
        "id": "oTVwupuV5ZE9",
        "outputId": "1381b502-fd72-4dba-d108-17a5b0f29e93"
      },
      "outputs": [
        {
          "output_type": "execute_result",
          "data": {
            "text/plain": [
              "<_TakeDataset element_spec=(TensorSpec(shape=(None, 256, 256, 3), dtype=tf.float32, name=None), TensorSpec(shape=(None,), dtype=tf.int32, name=None))>"
            ]
          },
          "metadata": {},
          "execution_count": 115
        }
      ],
      "source": [
        "train"
      ]
    },
    {
      "cell_type": "code",
      "execution_count": null,
      "metadata": {
        "id": "rkezteQX5ZE9"
      },
      "outputs": [],
      "source": [
        "from tensorflow.keras.models import Sequential\n",
        "from tensorflow.keras.layers import Conv2D, MaxPooling2D, Dense, Flatten, Dropout"
      ]
    },
    {
      "cell_type": "code",
      "execution_count": null,
      "metadata": {
        "id": "hdbGmk8d5ZE9"
      },
      "outputs": [],
      "source": [
        "model = Sequential()"
      ]
    },
    {
      "cell_type": "code",
      "execution_count": null,
      "metadata": {
        "id": "7znUaTNL5ZE9"
      },
      "outputs": [],
      "source": [
        "model.add(Conv2D(16, (3,3), 1, activation='relu', input_shape=(256,256,3)))\n",
        "model.add(MaxPooling2D())\n",
        "\n",
        "model.add(Conv2D(32, (3,3), 1, activation='relu'))\n",
        "model.add(MaxPooling2D())\n",
        "\n",
        "model.add(Conv2D(16, (3,3), 1, activation='relu'))\n",
        "model.add(MaxPooling2D())\n",
        "\n",
        "model.add(Flatten())\n",
        "\n",
        "model.add(Dense(256, activation='relu'))\n",
        "model.add(Dense(40, activation='Softmax'))"
      ]
    },
    {
      "cell_type": "code",
      "execution_count": null,
      "metadata": {
        "id": "KGN0NOJ55ZE9"
      },
      "outputs": [],
      "source": [
        "from sklearn.metrics import log_loss\n",
        "model.compile('adam', loss= 'sparse_categorical_crossentropy', metrics=['accuracy'])"
      ]
    },
    {
      "cell_type": "code",
      "execution_count": null,
      "metadata": {
        "colab": {
          "base_uri": "https://localhost:8080/"
        },
        "id": "AiDspNvz5ZE9",
        "outputId": "f5b37a9c-0611-416b-cbd2-5c1987005e04"
      },
      "outputs": [
        {
          "output_type": "stream",
          "name": "stdout",
          "text": [
            "Model: \"sequential_3\"\n",
            "_________________________________________________________________\n",
            " Layer (type)                Output Shape              Param #   \n",
            "=================================================================\n",
            " conv2d_9 (Conv2D)           (None, 254, 254, 16)      448       \n",
            "                                                                 \n",
            " max_pooling2d_9 (MaxPooling  (None, 127, 127, 16)     0         \n",
            " 2D)                                                             \n",
            "                                                                 \n",
            " conv2d_10 (Conv2D)          (None, 125, 125, 32)      4640      \n",
            "                                                                 \n",
            " max_pooling2d_10 (MaxPoolin  (None, 62, 62, 32)       0         \n",
            " g2D)                                                            \n",
            "                                                                 \n",
            " conv2d_11 (Conv2D)          (None, 60, 60, 16)        4624      \n",
            "                                                                 \n",
            " max_pooling2d_11 (MaxPoolin  (None, 30, 30, 16)       0         \n",
            " g2D)                                                            \n",
            "                                                                 \n",
            " flatten_3 (Flatten)         (None, 14400)             0         \n",
            "                                                                 \n",
            " dense_6 (Dense)             (None, 256)               3686656   \n",
            "                                                                 \n",
            " dense_7 (Dense)             (None, 40)                10280     \n",
            "                                                                 \n",
            "=================================================================\n",
            "Total params: 3,706,648\n",
            "Trainable params: 3,706,648\n",
            "Non-trainable params: 0\n",
            "_________________________________________________________________\n"
          ]
        }
      ],
      "source": [
        "model.summary()"
      ]
    },
    {
      "cell_type": "markdown",
      "metadata": {
        "id": "t4goLsZ55ZE9"
      },
      "source": [
        "## 訓練模型"
      ]
    },
    {
      "cell_type": "code",
      "execution_count": null,
      "metadata": {
        "id": "KAXa1rTg5ZE-"
      },
      "outputs": [],
      "source": [
        "logdir='logs'"
      ]
    },
    {
      "cell_type": "code",
      "execution_count": null,
      "metadata": {
        "id": "m6YUO5iK5ZE-"
      },
      "outputs": [],
      "source": [
        "tensorboard_callback = tf.keras.callbacks.TensorBoard(log_dir=logdir)"
      ]
    },
    {
      "cell_type": "markdown",
      "metadata": {
        "id": "isx4VT1Z5ZE-"
      },
      "source": []
    },
    {
      "cell_type": "code",
      "execution_count": null,
      "metadata": {
        "colab": {
          "base_uri": "https://localhost:8080/"
        },
        "id": "QJm-fkuN5ZE-",
        "outputId": "b51781e6-59d0-46e6-cf8d-66351d230c7b"
      },
      "outputs": [
        {
          "output_type": "stream",
          "name": "stdout",
          "text": [
            "Epoch 1/10\n",
            "48/48 [==============================] - 287s 6s/step - loss: 3.6719 - accuracy: 0.0365 - val_loss: 3.3039 - val_accuracy: 0.1250\n",
            "Epoch 2/10\n",
            "48/48 [==============================] - 104s 2s/step - loss: 2.1644 - accuracy: 0.4004 - val_loss: 1.0402 - val_accuracy: 0.6901\n",
            "Epoch 3/10\n",
            "48/48 [==============================] - 105s 2s/step - loss: 0.6449 - accuracy: 0.8001 - val_loss: 0.3326 - val_accuracy: 0.8932\n",
            "Epoch 4/10\n",
            "48/48 [==============================] - 105s 2s/step - loss: 0.2220 - accuracy: 0.9342 - val_loss: 0.1061 - val_accuracy: 0.9661\n",
            "Epoch 5/10\n",
            "48/48 [==============================] - 105s 2s/step - loss: 0.1478 - accuracy: 0.9590 - val_loss: 0.1186 - val_accuracy: 0.9609\n",
            "Epoch 6/10\n",
            "48/48 [==============================] - 115s 2s/step - loss: 0.1464 - accuracy: 0.9603 - val_loss: 0.0204 - val_accuracy: 0.9974\n",
            "Epoch 7/10\n",
            "48/48 [==============================] - 104s 2s/step - loss: 0.0105 - accuracy: 1.0000 - val_loss: 0.0114 - val_accuracy: 0.9948\n",
            "Epoch 8/10\n",
            "48/48 [==============================] - 105s 2s/step - loss: 0.0105 - accuracy: 0.9980 - val_loss: 0.0252 - val_accuracy: 0.9922\n",
            "Epoch 9/10\n",
            "48/48 [==============================] - 119s 2s/step - loss: 0.0236 - accuracy: 0.9915 - val_loss: 0.0472 - val_accuracy: 0.9818\n",
            "Epoch 10/10\n",
            "48/48 [==============================] - 106s 2s/step - loss: 0.0270 - accuracy: 0.9941 - val_loss: 0.0144 - val_accuracy: 0.9974\n"
          ]
        }
      ],
      "source": [
        "hist = model.fit(train,epochs=10,batch_size=100 ,validation_data=val, callbacks=[tensorboard_callback])"
      ]
    },
    {
      "cell_type": "markdown",
      "metadata": {
        "id": "ERR0SatF5ZE-"
      },
      "source": [
        "## 訓練結果呈現"
      ]
    },
    {
      "cell_type": "code",
      "execution_count": null,
      "metadata": {
        "colab": {
          "base_uri": "https://localhost:8080/",
          "height": 478
        },
        "id": "Tz_m5tEM5ZE-",
        "outputId": "18e4eac6-9dc6-4288-c281-906e8e37a6a6"
      },
      "outputs": [
        {
          "output_type": "display_data",
          "data": {
            "text/plain": [
              "<Figure size 640x480 with 1 Axes>"
            ],
            "image/png": "[encoded data removed]"
          },
          "metadata": {}
        }
      ],
      "source": [
        "fig = plt.figure()\n",
        "plt.plot(hist.history['loss'], color='teal', label='loss')\n",
        "plt.plot(hist.history['val_loss'], color='orange', label='val_loss')\n",
        "fig.suptitle('Loss', fontsize=20)\n",
        "plt.legend(loc=\"upper left\")\n",
        "plt.show()"
      ]
    },
    {
      "cell_type": "code",
      "execution_count": null,
      "metadata": {
        "colab": {
          "base_uri": "https://localhost:8080/",
          "height": 478
        },
        "id": "2o1zI9Ij5ZE-",
        "outputId": "63050a1c-7e7e-43fb-c6af-099c93fe8575"
      },
      "outputs": [
        {
          "output_type": "display_data",
          "data": {
            "text/plain": [
              "<Figure size 640x480 with 1 Axes>"
            ],
            "image/png": "[encoded data removed]"
          },
          "metadata": {}
        }
      ],
      "source": [
        "fig = plt.figure()\n",
        "plt.plot(hist.history['accuracy'], color='teal', label='accuracy')\n",
        "plt.plot(hist.history['val_accuracy'], color='orange', label='val_accuracy')\n",
        "fig.suptitle('Accuracy', fontsize=20)\n",
        "plt.legend(loc=\"upper left\")\n",
        "plt.show()"
      ]
    },
    {
      "cell_type": "code",
      "execution_count": null,
      "metadata": {
        "colab": {
          "base_uri": "https://localhost:8080/"
        },
        "id": "cypX75TKKYQm",
        "outputId": "b14d6df2-1e0f-429d-a93d-c2faf7d31817"
      },
      "outputs": [
        {
          "output_type": "stream",
          "name": "stdout",
          "text": [
            "[0.0364583320915699, 0.400390625, 0.8001301884651184, 0.9342448115348816, 0.958984375, 0.9602864384651184, 1.0, 0.998046875, 0.9915364384651184, 0.994140625]\n"
          ]
        }
      ],
      "source": [
        "print(hist.history['accuracy'])"
      ]
    },
    {
      "cell_type": "markdown",
      "metadata": {
        "id": "h8LavCuU5ZE-"
      },
      "source": [
        "## 用測試集進行測試"
      ]
    },
    {
      "cell_type": "code",
      "execution_count": null,
      "metadata": {
        "id": "XIQ51UBl5ZE-"
      },
      "outputs": [],
      "source": [
        "from tensorflow.keras.metrics import Precision, Recall, SparseCategoricalAccuracy,BinaryAccuracy,Accuracy"
      ]
    },
    {
      "cell_type": "code",
      "execution_count": null,
      "metadata": {
        "id": "F_9MFWgw5ZE_"
      },
      "outputs": [],
      "source": [
        "pre = Precision()\n",
        "re = Recall()\n",
        "acc = Accuracy()"
      ]
    },
    {
      "cell_type": "code",
      "execution_count": null,
      "metadata": {
        "colab": {
          "base_uri": "https://localhost:8080/"
        },
        "id": "PASvmMMp5ZE_",
        "outputId": "721af0c4-30b6-4082-fc60-7acd9155af44"
      },
      "outputs": [
        {
          "output_type": "stream",
          "name": "stdout",
          "text": [
            "1/1 [==============================] - 1s 596ms/step\n",
            "1/1 [==============================] - 1s 502ms/step\n",
            "1/1 [==============================] - 1s 582ms/step\n",
            "1/1 [==============================] - 0s 500ms/step\n",
            "1/1 [==============================] - 1s 504ms/step\n",
            "1/1 [==============================] - 1s 521ms/step\n",
            "1/1 [==============================] - 1s 502ms/step\n",
            "1/1 [==============================] - 0s 333ms/step\n"
          ]
        }
      ],
      "source": [
        "for test_batch in test_data.as_numpy_iterator():\n",
        "  X, y = test_batch\n",
        "  yhat = model.predict(X)\n",
        "  y_pred=np.argmax(yhat,axis=1)\n",
        "  #print(y.shape)\n",
        "  #print(yhat.shape)\n",
        "  #print(y)\n",
        "  #print(yhat)\n",
        "  pre.update_state(y, y_pred)\n",
        "  re.update_state(y, y_pred)\n",
        "  acc.update_state(y, y_pred)"
      ]
    },
    {
      "cell_type": "code",
      "execution_count": null,
      "metadata": {
        "colab": {
          "base_uri": "https://localhost:8080/"
        },
        "id": "5DEawHj_5ZE_",
        "outputId": "5f43a512-f790-40cd-99b6-0c367819878b"
      },
      "outputs": [
        {
          "output_type": "stream",
          "name": "stdout",
          "text": [
            "0.9868421 0.96153843 0.26666668\n"
          ]
        }
      ],
      "source": [
        "print(pre.result().numpy(),re.result().numpy(),acc.result().numpy())"
      ]
    },
    {
      "cell_type": "code",
      "execution_count": null,
      "metadata": {
        "id": "52vtYOgD5ZE_"
      },
      "outputs": [],
      "source": []
    }
  ],
  "metadata": {
    "accelerator": "GPU",
    "colab": {
      "provenance": [],
      "collapsed_sections": [
        "dm6qJfuG5LMG"
      ]
    },
    "gpuClass": "standard",
    "kernelspec": {
      "display_name": "Python 3",
      "name": "python3"
    },
    "language_info": {
      "name": "python"
    }
  },
  "nbformat": 4,
  "nbformat_minor": 0
}